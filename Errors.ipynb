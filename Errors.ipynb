{
 "cells": [
  {
   "cell_type": "code",
   "execution_count": 1,
   "metadata": {},
   "outputs": [
    {
     "ename": "NameError",
     "evalue": "name 'fields' is not defined",
     "output_type": "error",
     "traceback": [
      "\u001b[1;31m---------------------------------------------------------------------------\u001b[0m",
      "\u001b[1;31mNameError\u001b[0m                                 Traceback (most recent call last)",
      "\u001b[1;32m<ipython-input-1-859370261ad8>\u001b[0m in \u001b[0;36m<module>\u001b[1;34m\u001b[0m\n\u001b[0;32m      1\u001b[0m \u001b[1;32mimport\u001b[0m \u001b[0mmatplotlib\u001b[0m\u001b[1;33m.\u001b[0m\u001b[0mpyplot\u001b[0m \u001b[1;32mas\u001b[0m \u001b[0mplt\u001b[0m\u001b[1;33m\u001b[0m\u001b[1;33m\u001b[0m\u001b[0m\n\u001b[0;32m      2\u001b[0m \u001b[1;33m\u001b[0m\u001b[0m\n\u001b[1;32m----> 3\u001b[1;33m \u001b[1;32mfor\u001b[0m \u001b[0mi\u001b[0m \u001b[1;32min\u001b[0m \u001b[0mrange\u001b[0m\u001b[1;33m(\u001b[0m\u001b[0mlen\u001b[0m\u001b[1;33m(\u001b[0m\u001b[0mfields\u001b[0m\u001b[1;33m)\u001b[0m\u001b[1;33m)\u001b[0m\u001b[1;33m:\u001b[0m\u001b[1;33m\u001b[0m\u001b[1;33m\u001b[0m\u001b[0m\n\u001b[0m\u001b[0;32m      4\u001b[0m     \u001b[0mplt\u001b[0m\u001b[1;33m.\u001b[0m\u001b[0mclf\u001b[0m\u001b[1;33m(\u001b[0m\u001b[1;33m)\u001b[0m\u001b[1;33m\u001b[0m\u001b[1;33m\u001b[0m\u001b[0m\n\u001b[0;32m      5\u001b[0m \u001b[1;33m\u001b[0m\u001b[0m\n",
      "\u001b[1;31mNameError\u001b[0m: name 'fields' is not defined"
     ]
    }
   ],
   "source": [
    "import matplotlib.pyplot as plt\n",
    "\n",
    "for i in range(len(fields)):\n",
    "    plt.clf()\n",
    "\n",
    "    plt.figure(figsize=(8, 8))\n",
    "    column = i\n",
    "\n",
    "    title = fields[column]\n",
    "    plt.title(title)\n",
    "    plt.xlabel('time')\n",
    "    plt.ylabel('value')\n",
    "    plt.plot(prn_valid_y[:iterations_count, column], label='y')\n",
    "    plt.plot(prn_iterative[1:, column], label='predicted')\n",
    "    # plt.plot(nn_iterative[:, column], label='nn')\n",
    "    plt.grid()\n",
    "    plt.legend()\n",
    "    plt.savefig(rw_images_dir + title + '.png')"
   ]
  },
  {
   "cell_type": "code",
   "execution_count": 2,
   "metadata": {},
   "outputs": [],
   "source": [
    "def biplot(x, y, title, model_name, images_dir):\n",
    "    plt.figure(figsize=(8, 8))\n",
    "    plt.scatter(x, y)\n",
    "    plt.grid()\n",
    "\n",
    "#     min_ylim = min(min(x), min(y))\n",
    "#     max_ylim = max(max(x), max(y))\n",
    "\n",
    "#     plt.ylim(min_ylim, max_ylim)\n",
    "\n",
    "    plt.xlabel('y')\n",
    "    plt.ylabel('predicted')\n",
    "    plt.title(title)\n",
    "\n",
    "    # plt.show()\n",
    "    image_path = path_join(images_dir, title + '.png')\n",
    "    plt.savefig(image_path)\n",
    "#     plt.gcf().clear()"
   ]
  },
  {
   "cell_type": "code",
   "execution_count": null,
   "metadata": {},
   "outputs": [],
   "source": [
    "for level in fields:\n",
    "    i = fields.index(level)\n",
    "    level_output = prn_iterative[1:, i]\n",
    "    level_y = prn_valid_y[:iterations_count, i]\n",
    "\n",
    "    graphs = (level_output, level_y)\n",
    "    labels = ('PRN_y', 'true_y')\n",
    "\n",
    "    biplot_name2 = 'biplot {}'.format(level)\n",
    "    biplot(level_output, level_y, biplot_name2, 'PRN', rw_images_dir)"
   ]
  }
 ],
 "metadata": {
  "kernelspec": {
   "display_name": "Python 3",
   "language": "python",
   "name": "python3"
  },
  "language_info": {
   "codemirror_mode": {
    "name": "ipython",
    "version": 3
   },
   "file_extension": ".py",
   "mimetype": "text/x-python",
   "name": "python",
   "nbconvert_exporter": "python",
   "pygments_lexer": "ipython3",
   "version": "3.6.7"
  }
 },
 "nbformat": 4,
 "nbformat_minor": 2
}
