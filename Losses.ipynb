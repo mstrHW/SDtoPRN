{
 "cells": [
  {
   "cell_type": "code",
   "execution_count": 1,
   "metadata": {},
   "outputs": [
    {
     "name": "stdout",
     "output_type": "stream",
     "text": [
      "No known TensorBoard instances running.\n"
     ]
    }
   ],
   "source": [
    "# from tensorboard import notebook\n",
    "# notebook.list()\n",
    "# notebook.display(port=6006, height=1000)"
   ]
  },
  {
   "cell_type": "code",
   "execution_count": 4,
   "metadata": {},
   "outputs": [],
   "source": [
    "from definitions import *"
   ]
  },
  {
   "cell_type": "code",
   "execution_count": 6,
   "metadata": {},
   "outputs": [],
   "source": [
    "model_name = 'predator_prey'\n",
    "\n",
    "args = {\n",
    "    'model_name': model_name,\n",
    "    'experiment_name': '{}_recovery_new_prn'.format(model_name),\n",
    "    'need_retrain': True,\n",
    "    'learning_rate': 1e-1,\n",
    "    'epochs_before_decay': 0.1,\n",
    "    'epochs_count': 20,\n",
    "    'learning_rate_decay': 1/3,\n",
    "    'iterations_count': 300,\n",
    "}"
   ]
  },
  {
   "cell_type": "code",
   "execution_count": 7,
   "metadata": {},
   "outputs": [],
   "source": [
    "KNOWN_MODEL = 'known model'\n",
    "UNKNOWN_MODEL = 'unknown model'"
   ]
  },
  {
   "cell_type": "code",
   "execution_count": 8,
   "metadata": {},
   "outputs": [],
   "source": [
    "import tensorflow as tf\n",
    "\n",
    "general_params = \\\n",
    "    {\n",
    "        'phi_h': tf.keras.activations.linear,\n",
    "        'phi_o': tf.keras.activations.linear,\n",
    "    }\n",
    "\n",
    "train_params = \\\n",
    "    {\n",
    "        'learning_rate': args['learning_rate'],\n",
    "        'epochs_before_decay': args['epochs_before_decay'],\n",
    "        'epochs_count': args['epochs_count'],\n",
    "        'learning_rate_decay': args['learning_rate_decay'],\n",
    "    }\n"
   ]
  },
  {
   "cell_type": "code",
   "execution_count": 9,
   "metadata": {},
   "outputs": [],
   "source": [
    "model_name = args['model_name']\n",
    "need_train = bool(args['need_retrain'])\n",
    "mode = UNKNOWN_MODEL\n",
    "\n",
    "dataset_file_name = 'dataset.csv'\n",
    "dataset_dir = path_join(DATA_DIR, model_name)\n",
    "dataset_path = path_join(dataset_dir, dataset_file_name)\n",
    "\n",
    "experiment_name = args['experiment_name']\n",
    "experiment_dir = path_join(EXPERIMENTS_DIR, experiment_name)\n",
    "make_directory(experiment_dir)\n",
    "\n",
    "tf_model_dir = path_join(experiment_dir, 'tf_model')\n",
    "make_directory(tf_model_dir)\n",
    "\n",
    "images_dir = path_join(experiment_dir, 'images')\n",
    "make_directory(images_dir)\n",
    "\n",
    "log_path = path_join(experiment_dir, 'log.log')\n",
    "logging.basicConfig(filename=log_path, level=logging.INFO)\n",
    "\n",
    "vensim_model_file = path_join(VENSIM_MODELS_DIR, '{}.mdl'.format(model_name))\n",
    "\n",
    "prn_model_dir = path_join(tf_model_dir, 'prn_model')\n",
    "nn_model_dir = path_join(tf_model_dir, 'base_nn_model')\n",
    "make_directory(prn_model_dir)\n",
    "make_directory(nn_model_dir)\n",
    "\n",
    "dataset_file = '{}_dataset.csv'.format(model_name)"
   ]
  },
  {
   "cell_type": "code",
   "execution_count": 11,
   "metadata": {},
   "outputs": [
    {
     "name": "stdout",
     "output_type": "stream",
     "text": [
      "C:\\Users\\HWer\\Documents\\GitHub\\SDtoPRN\\experiments\\predator_prey_recovery_new_prn\\tf_model\\prn_model\\loss_history\n",
      "dict_keys(['loss', 'mse', 'val_loss', 'val_mse'])\n"
     ]
    }
   ],
   "source": [
    "import pickle\n",
    "\n",
    "file_name = path_join(prn_model_dir, 'loss_history')\n",
    "print(file_name)\n",
    "with open(file_name, 'rb') as file:\n",
    "    prn_train_data = pickle.load(file)\n",
    "\n",
    "print(prn_train_data.keys())\n",
    "\n",
    "# file_name = path_join(nn_model_dir, 'loss_history')\n",
    "# print(file_name)\n",
    "# with open(file_name, 'rb') as file:\n",
    "#     nn_train_data = pickle.load(file)\n",
    "\n",
    "# print(nn_train_data.keys())"
   ]
  },
  {
   "cell_type": "code",
   "execution_count": 19,
   "metadata": {},
   "outputs": [
    {
     "data": {
      "image/png": "[encoded data removed]",
      "text/plain": [
       "<Figure size 576x576 with 1 Axes>"
      ]
     },
     "metadata": {
      "needs_background": "light"
     },
     "output_type": "display_data"
    }
   ],
   "source": [
    "import matplotlib.pyplot as plt\n",
    "import pickle\n",
    "\n",
    "plt.figure(figsize=(8, 8))\n",
    "plt.plot(prn_train_data['loss'], label='train loss')\n",
    "plt.plot(prn_train_data['val_loss'], label='validation loss')\n",
    "\n",
    "plt.xlabel('epochs')\n",
    "plt.ylabel('loss (mse)')\n",
    "\n",
    "# plt.xlim(0)\n",
    "# plt.ylim(0)\n",
    "# y_ticks = [10 ** i for i in range(-10, 5)]\n",
    "\n",
    "title = 'PRN train and validation loss'\n",
    "plt.title(title)\n",
    "\n",
    "# plt.yscale('log')\n",
    "plt.legend()\n",
    "plt.grid()\n",
    "plt.savefig(os.path.join(images_dir, title))"
   ]
  },
  {
   "cell_type": "code",
   "execution_count": 18,
   "metadata": {},
   "outputs": [
    {
     "ename": "NameError",
     "evalue": "name 'nn_train_data' is not defined",
     "output_type": "error",
     "traceback": [
      "\u001b[1;31m---------------------------------------------------------------------------\u001b[0m",
      "\u001b[1;31mNameError\u001b[0m                                 Traceback (most recent call last)",
      "\u001b[1;32m<ipython-input-18-7880280f2b42>\u001b[0m in \u001b[0;36m<module>\u001b[1;34m\u001b[0m\n\u001b[0;32m      3\u001b[0m \u001b[1;33m\u001b[0m\u001b[0m\n\u001b[0;32m      4\u001b[0m \u001b[0mplt\u001b[0m\u001b[1;33m.\u001b[0m\u001b[0mfigure\u001b[0m\u001b[1;33m(\u001b[0m\u001b[0mfigsize\u001b[0m\u001b[1;33m=\u001b[0m\u001b[1;33m(\u001b[0m\u001b[1;36m8\u001b[0m\u001b[1;33m,\u001b[0m \u001b[1;36m8\u001b[0m\u001b[1;33m)\u001b[0m\u001b[1;33m)\u001b[0m\u001b[1;33m\u001b[0m\u001b[1;33m\u001b[0m\u001b[0m\n\u001b[1;32m----> 5\u001b[1;33m \u001b[0mplt\u001b[0m\u001b[1;33m.\u001b[0m\u001b[0mplot\u001b[0m\u001b[1;33m(\u001b[0m\u001b[0mnn_train_data\u001b[0m\u001b[1;33m[\u001b[0m\u001b[1;34m'loss'\u001b[0m\u001b[1;33m]\u001b[0m\u001b[1;33m,\u001b[0m \u001b[0mlabel\u001b[0m\u001b[1;33m=\u001b[0m\u001b[1;34m'train loss'\u001b[0m\u001b[1;33m)\u001b[0m\u001b[1;33m\u001b[0m\u001b[1;33m\u001b[0m\u001b[0m\n\u001b[0m\u001b[0;32m      6\u001b[0m \u001b[0mplt\u001b[0m\u001b[1;33m.\u001b[0m\u001b[0mplot\u001b[0m\u001b[1;33m(\u001b[0m\u001b[0mnn_train_data\u001b[0m\u001b[1;33m[\u001b[0m\u001b[1;34m'val_loss'\u001b[0m\u001b[1;33m]\u001b[0m\u001b[1;33m,\u001b[0m \u001b[0mlabel\u001b[0m\u001b[1;33m=\u001b[0m\u001b[1;34m'validation loss'\u001b[0m\u001b[1;33m)\u001b[0m\u001b[1;33m\u001b[0m\u001b[1;33m\u001b[0m\u001b[0m\n\u001b[0;32m      7\u001b[0m \u001b[1;33m\u001b[0m\u001b[0m\n",
      "\u001b[1;31mNameError\u001b[0m: name 'nn_train_data' is not defined"
     ]
    },
    {
     "data": {
      "text/plain": [
       "<Figure size 576x576 with 0 Axes>"
      ]
     },
     "metadata": {},
     "output_type": "display_data"
    }
   ],
   "source": [
    "import matplotlib.pyplot as plt\n",
    "import pickle\n",
    "\n",
    "plt.figure(figsize=(8, 8))\n",
    "plt.plot(nn_train_data['loss'], label='train loss')\n",
    "plt.plot(nn_train_data['val_loss'], label='validation loss')\n",
    "\n",
    "plt.xlabel('epochs')\n",
    "plt.ylabel('loss (mse)')\n",
    "\n",
    "# plt.xlim(0)\n",
    "# plt.ylim(0)\n",
    "# y_ticks = [10 ** i for i in range(-10, 5)]\n",
    "\n",
    "title = 'NN train and validation loss'\n",
    "plt.title(title)\n",
    "\n",
    "# plt.yscale('log')\n",
    "plt.legend()\n",
    "plt.grid()\n",
    "plt.savefig(os.path.join(images_dir, title))"
   ]
  },
  {
   "cell_type": "code",
   "execution_count": 20,
   "metadata": {},
   "outputs": [
    {
     "ename": "NameError",
     "evalue": "name 'nn_train_data' is not defined",
     "output_type": "error",
     "traceback": [
      "\u001b[1;31m---------------------------------------------------------------------------\u001b[0m",
      "\u001b[1;31mNameError\u001b[0m                                 Traceback (most recent call last)",
      "\u001b[1;32m<ipython-input-20-ac7a8631200a>\u001b[0m in \u001b[0;36m<module>\u001b[1;34m\u001b[0m\n\u001b[0;32m      4\u001b[0m \u001b[0mplt\u001b[0m\u001b[1;33m.\u001b[0m\u001b[0mfigure\u001b[0m\u001b[1;33m(\u001b[0m\u001b[0mfigsize\u001b[0m\u001b[1;33m=\u001b[0m\u001b[1;33m(\u001b[0m\u001b[1;36m8\u001b[0m\u001b[1;33m,\u001b[0m \u001b[1;36m8\u001b[0m\u001b[1;33m)\u001b[0m\u001b[1;33m)\u001b[0m\u001b[1;33m\u001b[0m\u001b[1;33m\u001b[0m\u001b[0m\n\u001b[0;32m      5\u001b[0m \u001b[0mplt\u001b[0m\u001b[1;33m.\u001b[0m\u001b[0mplot\u001b[0m\u001b[1;33m(\u001b[0m\u001b[0mprn_train_data\u001b[0m\u001b[1;33m[\u001b[0m\u001b[1;34m'loss'\u001b[0m\u001b[1;33m]\u001b[0m\u001b[1;33m,\u001b[0m \u001b[0mlabel\u001b[0m\u001b[1;33m=\u001b[0m\u001b[1;34m'PRN loss'\u001b[0m\u001b[1;33m)\u001b[0m\u001b[1;33m\u001b[0m\u001b[1;33m\u001b[0m\u001b[0m\n\u001b[1;32m----> 6\u001b[1;33m \u001b[0mplt\u001b[0m\u001b[1;33m.\u001b[0m\u001b[0mplot\u001b[0m\u001b[1;33m(\u001b[0m\u001b[0mnn_train_data\u001b[0m\u001b[1;33m[\u001b[0m\u001b[1;34m'loss'\u001b[0m\u001b[1;33m]\u001b[0m\u001b[1;33m,\u001b[0m \u001b[0mlabel\u001b[0m\u001b[1;33m=\u001b[0m\u001b[1;34m'NN loss'\u001b[0m\u001b[1;33m)\u001b[0m\u001b[1;33m\u001b[0m\u001b[1;33m\u001b[0m\u001b[0m\n\u001b[0m\u001b[0;32m      7\u001b[0m \u001b[1;33m\u001b[0m\u001b[0m\n\u001b[0;32m      8\u001b[0m \u001b[0mplt\u001b[0m\u001b[1;33m.\u001b[0m\u001b[0mxlabel\u001b[0m\u001b[1;33m(\u001b[0m\u001b[1;34m'epochs'\u001b[0m\u001b[1;33m)\u001b[0m\u001b[1;33m\u001b[0m\u001b[1;33m\u001b[0m\u001b[0m\n",
      "\u001b[1;31mNameError\u001b[0m: name 'nn_train_data' is not defined"
     ]
    },
    {
     "data": {
      "image/png": "[encoded data removed]",
      "text/plain": [
       "<Figure size 576x576 with 1 Axes>"
      ]
     },
     "metadata": {
      "needs_background": "light"
     },
     "output_type": "display_data"
    }
   ],
   "source": [
    "import matplotlib.pyplot as plt\n",
    "import pickle\n",
    "\n",
    "plt.figure(figsize=(8, 8))\n",
    "plt.plot(prn_train_data['loss'], label='PRN loss')\n",
    "plt.plot(nn_train_data['loss'], label='NN loss')\n",
    "\n",
    "plt.xlabel('epochs')\n",
    "plt.ylabel('loss (mse)')\n",
    "\n",
    "# plt.xlim(0)\n",
    "# plt.ylim(0)\n",
    "# y_ticks = [10 ** i for i in range(-10, 5)]\n",
    "\n",
    "title = 'PRN and NN train loss'\n",
    "plt.title(title)\n",
    "\n",
    "plt.yscale('log')\n",
    "plt.legend()\n",
    "plt.grid()\n",
    "plt.savefig(os.path.join(images_dir, title))"
   ]
  },
  {
   "cell_type": "code",
   "execution_count": null,
   "metadata": {},
   "outputs": [],
   "source": [
    "import matplotlib.pyplot as plt\n",
    "import pickle\n",
    "\n",
    "plt.figure(figsize=(8, 8))\n",
    "plt.plot(prn_train_data['val_loss'], label='PRN loss')\n",
    "plt.plot(nn_train_data['val_loss'], label='NN loss')\n",
    "\n",
    "plt.xlabel('epochs')\n",
    "plt.ylabel('loss (mse)')\n",
    "\n",
    "# plt.xlim(0)\n",
    "# plt.ylim(0)\n",
    "# y_ticks = [10 ** i for i in range(-10, 5)]\n",
    "\n",
    "title = 'PRN and NN validation loss'\n",
    "plt.title(title)\n",
    "\n",
    "plt.yscale('log')\n",
    "plt.legend()\n",
    "plt.grid()\n",
    "plt.savefig(os.path.join(images_dir, title))"
   ]
  }
 ],
 "metadata": {
  "kernelspec": {
   "display_name": "Python 3",
   "language": "python",
   "name": "python3"
  },
  "language_info": {
   "codemirror_mode": {
    "name": "ipython",
    "version": 3
   },
   "file_extension": ".py",
   "mimetype": "text/x-python",
   "name": "python",
   "nbconvert_exporter": "python",
   "pygments_lexer": "ipython3",
   "version": "3.6.7"
  }
 },
 "nbformat": 4,
 "nbformat_minor": 2
}
