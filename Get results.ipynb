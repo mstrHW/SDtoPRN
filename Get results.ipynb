{
 "cells": [
  {
   "cell_type": "code",
   "execution_count": 1,
   "metadata": {},
   "outputs": [],
   "source": [
    "import numpy as np\n",
    "from definitions import path_join, make_directory, EXPERIMENTS_DIR, VENSIM_MODELS_DIR, logging"
   ]
  },
  {
   "cell_type": "code",
   "execution_count": 2,
   "metadata": {},
   "outputs": [],
   "source": [
    "args = {\n",
    "    'model_name': 'teacup',\n",
    "    'experiment_name': 'teacup_recovery',\n",
    "    'need_retrain': False,\n",
    "    'learning_rate': 1e-1,\n",
    "    'epochs_before_decay': 0.1,\n",
    "    'epochs_count': 50,\n",
    "    'learning_rate_decay': 1/3,\n",
    "    'iterations_count': 50,\n",
    "}"
   ]
  },
  {
   "cell_type": "code",
   "execution_count": 5,
   "metadata": {},
   "outputs": [],
   "source": [
    "KNOWN_MODEL = 'unknown model'"
   ]
  },
  {
   "cell_type": "code",
   "execution_count": 6,
   "metadata": {},
   "outputs": [],
   "source": [
    "import tensorflow as tf\n",
    "\n",
    "general_params = \\\n",
    "    {\n",
    "        'phi_h': tf.keras.activations.linear,\n",
    "        'phi_o': tf.keras.activations.linear,\n",
    "    }\n",
    "\n",
    "train_params = \\\n",
    "    {\n",
    "        'learning_rate': args['learning_rate'],\n",
    "        'epochs_before_decay': args['epochs_before_decay'],\n",
    "        'epochs_count': args['epochs_count'],\n",
    "        'learning_rate_decay': args['learning_rate_decay'],\n",
    "    }\n"
   ]
  },
  {
   "cell_type": "code",
   "execution_count": 7,
   "metadata": {},
   "outputs": [],
   "source": [
    "model_name = args['model_name']\n",
    "need_train = bool(args['need_retrain'])\n",
    "mode = KNOWN_MODEL\n",
    "\n",
    "experiment_name = args['experiment_name']\n",
    "experiment_dir = path_join(EXPERIMENTS_DIR, experiment_name)\n",
    "make_directory(experiment_dir)\n",
    "\n",
    "tf_model_dir = path_join(experiment_dir, 'tf_model')\n",
    "make_directory(tf_model_dir)\n",
    "\n",
    "images_dir = path_join(experiment_dir, 'images')\n",
    "make_directory(images_dir)\n",
    "\n",
    "log_path = path_join(experiment_dir, 'log.log')\n",
    "logging.basicConfig(filename=log_path, level=logging.INFO)\n",
    "\n",
    "vensim_model_file = path_join(VENSIM_MODELS_DIR, '{}.mdl'.format(model_name))\n",
    "\n",
    "prn_model_dir = path_join(tf_model_dir, 'prn_model')\n",
    "nn_model_dir = path_join(tf_model_dir, 'base_nn_model')\n",
    "make_directory(prn_model_dir)\n",
    "make_directory(nn_model_dir)\n",
    "\n",
    "dataset_file = '{}_dataset.csv'.format(model_name)"
   ]
  },
  {
   "cell_type": "code",
   "execution_count": 8,
   "metadata": {},
   "outputs": [
    {
     "ename": "ImportError",
     "evalue": "cannot import name 'get_fd'",
     "output_type": "error",
     "traceback": [
      "\u001b[1;31m---------------------------------------------------------------------------\u001b[0m",
      "\u001b[1;31mImportError\u001b[0m                               Traceback (most recent call last)",
      "\u001b[1;32m<ipython-input-8-987dd3cab0b8>\u001b[0m in \u001b[0;36m<module>\u001b[1;34m\u001b[0m\n\u001b[1;32m----> 1\u001b[1;33m \u001b[1;32mfrom\u001b[0m \u001b[0mmodule\u001b[0m\u001b[1;33m.\u001b[0m\u001b[0mfd_model\u001b[0m\u001b[1;33m.\u001b[0m\u001b[0mvensim_fd_converter\u001b[0m \u001b[1;32mimport\u001b[0m \u001b[0mget_fd\u001b[0m\u001b[1;33m\u001b[0m\u001b[1;33m\u001b[0m\u001b[0m\n\u001b[0m\u001b[0;32m      2\u001b[0m \u001b[1;33m\u001b[0m\u001b[0m\n\u001b[0;32m      3\u001b[0m \u001b[0mFD\u001b[0m \u001b[1;33m=\u001b[0m \u001b[0mget_fd\u001b[0m\u001b[1;33m(\u001b[0m\u001b[0mvensim_model_file\u001b[0m\u001b[1;33m,\u001b[0m \u001b[0mmode\u001b[0m\u001b[1;33m=\u001b[0m\u001b[0mmode\u001b[0m\u001b[1;33m)\u001b[0m\u001b[1;33m\u001b[0m\u001b[1;33m\u001b[0m\u001b[0m\n",
      "\u001b[1;31mImportError\u001b[0m: cannot import name 'get_fd'"
     ]
    }
   ],
   "source": [
    "from module.fd_model.vensim_fd_converter import get_fd\n",
    "\n",
    "FD = get_fd(vensim_model_file, mode=mode)"
   ]
  },
  {
   "cell_type": "code",
   "execution_count": 13,
   "metadata": {},
   "outputs": [
    {
     "data": {
      "text/html": [
       "<div>\n",
       "<style scoped>\n",
       "    .dataframe tbody tr th:only-of-type {\n",
       "        vertical-align: middle;\n",
       "    }\n",
       "\n",
       "    .dataframe tbody tr th {\n",
       "        vertical-align: top;\n",
       "    }\n",
       "\n",
       "    .dataframe thead th {\n",
       "        text-align: right;\n",
       "    }\n",
       "</style>\n",
       "<table border=\"1\" class=\"dataframe\">\n",
       "  <thead>\n",
       "    <tr style=\"text-align: right;\">\n",
       "      <th></th>\n",
       "      <th>sim_index</th>\n",
       "      <th>Characteristic Time</th>\n",
       "      <th>Room Temperature</th>\n",
       "      <th>Teacup Temperature</th>\n",
       "    </tr>\n",
       "  </thead>\n",
       "  <tbody>\n",
       "    <tr>\n",
       "      <th>0</th>\n",
       "      <td>0</td>\n",
       "      <td>10</td>\n",
       "      <td>45</td>\n",
       "      <td>140.00</td>\n",
       "    </tr>\n",
       "    <tr>\n",
       "      <th>1</th>\n",
       "      <td>0</td>\n",
       "      <td>10</td>\n",
       "      <td>45</td>\n",
       "      <td>138.81</td>\n",
       "    </tr>\n",
       "    <tr>\n",
       "      <th>2</th>\n",
       "      <td>0</td>\n",
       "      <td>10</td>\n",
       "      <td>45</td>\n",
       "      <td>137.64</td>\n",
       "    </tr>\n",
       "    <tr>\n",
       "      <th>3</th>\n",
       "      <td>0</td>\n",
       "      <td>10</td>\n",
       "      <td>45</td>\n",
       "      <td>136.48</td>\n",
       "    </tr>\n",
       "    <tr>\n",
       "      <th>4</th>\n",
       "      <td>0</td>\n",
       "      <td>10</td>\n",
       "      <td>45</td>\n",
       "      <td>135.34</td>\n",
       "    </tr>\n",
       "    <tr>\n",
       "      <th>5</th>\n",
       "      <td>0</td>\n",
       "      <td>10</td>\n",
       "      <td>45</td>\n",
       "      <td>134.21</td>\n",
       "    </tr>\n",
       "    <tr>\n",
       "      <th>6</th>\n",
       "      <td>0</td>\n",
       "      <td>10</td>\n",
       "      <td>45</td>\n",
       "      <td>133.09</td>\n",
       "    </tr>\n",
       "    <tr>\n",
       "      <th>7</th>\n",
       "      <td>0</td>\n",
       "      <td>10</td>\n",
       "      <td>45</td>\n",
       "      <td>131.99</td>\n",
       "    </tr>\n",
       "    <tr>\n",
       "      <th>8</th>\n",
       "      <td>0</td>\n",
       "      <td>10</td>\n",
       "      <td>45</td>\n",
       "      <td>130.91</td>\n",
       "    </tr>\n",
       "    <tr>\n",
       "      <th>9</th>\n",
       "      <td>0</td>\n",
       "      <td>10</td>\n",
       "      <td>45</td>\n",
       "      <td>129.83</td>\n",
       "    </tr>\n",
       "  </tbody>\n",
       "</table>\n",
       "</div>"
      ],
      "text/plain": [
       "   sim_index  Characteristic Time  Room Temperature  Teacup Temperature\n",
       "0          0                   10                45              140.00\n",
       "1          0                   10                45              138.81\n",
       "2          0                   10                45              137.64\n",
       "3          0                   10                45              136.48\n",
       "4          0                   10                45              135.34\n",
       "5          0                   10                45              134.21\n",
       "6          0                   10                45              133.09\n",
       "7          0                   10                45              131.99\n",
       "8          0                   10                45              130.91\n",
       "9          0                   10                45              129.83"
      ]
     },
     "execution_count": 13,
     "metadata": {},
     "output_type": "execute_result"
    }
   ],
   "source": [
    "import pandas as pd\n",
    "\n",
    "data = pd.read_csv(dataset_file)\n",
    "data.head(10)"
   ]
  },
  {
   "cell_type": "code",
   "execution_count": 14,
   "metadata": {},
   "outputs": [
    {
     "data": {
      "text/plain": [
       "['Teacup Temperature', 'Characteristic Time', 'Room Temperature']"
      ]
     },
     "execution_count": 14,
     "metadata": {},
     "output_type": "execute_result"
    }
   ],
   "source": [
    "fields = [level for level in FD.names_units_map.keys()]\n",
    "fields"
   ]
  },
  {
   "cell_type": "code",
   "execution_count": 15,
   "metadata": {},
   "outputs": [],
   "source": [
    "from sklearn.model_selection import train_test_split\n",
    "\n",
    "\n",
    "def np_preproc_for_rnn3d(numpy_array, fields):\n",
    "    x_groups = [group[1][fields].values[:-1] for group in numpy_array]\n",
    "    y_groups = [group[1][fields].values[1:] for group in numpy_array]\n",
    "    \n",
    "    train_X, valid_X, train_y, valid_y = train_test_split(x_groups, y_groups, test_size=0.2, random_state=123)\n",
    "    \n",
    "    train_X = np.concatenate(train_X, axis=0)\n",
    "    valid_X = np.concatenate(valid_X, axis=0)\n",
    "    \n",
    "    train_y = np.concatenate(train_y, axis=0)\n",
    "    valid_y = np.concatenate(valid_y, axis=0)\n",
    "\n",
    "    return (train_X, train_y), (valid_X, valid_y)\n",
    "\n",
    "\n",
    "def generate_train_data(df, fields):\n",
    "    dataset = df[fields].values\n",
    "    grouped = df.groupby(['sim_index'])[fields]\n",
    "    \n",
    "    return dataset, np_preproc_for_rnn3d(grouped, fields)"
   ]
  },
  {
   "cell_type": "code",
   "execution_count": 16,
   "metadata": {},
   "outputs": [],
   "source": [
    "_, (prn_train, prn_valid) = generate_train_data(data, fields)"
   ]
  },
  {
   "cell_type": "code",
   "execution_count": 17,
   "metadata": {},
   "outputs": [],
   "source": [
    "prn_train_X, prn_train_y = prn_train\n",
    "prn_valid_X, prn_valid_y = prn_valid"
   ]
  },
  {
   "cell_type": "code",
   "execution_count": 18,
   "metadata": {},
   "outputs": [],
   "source": [
    "import tensorflow as tf\n",
    "from tensorflow.python.framework import ops\n",
    "\n",
    "ops.reset_default_graph()"
   ]
  },
  {
   "cell_type": "code",
   "execution_count": 19,
   "metadata": {},
   "outputs": [],
   "source": [
    "from module.fd_model.fd_rnn_converter import FDRNNConverter\n",
    "# from module.nn_model import NNModel as NNModelv1\n",
    "from module.nn_model_tf_v2 import NNModel as NNModelv2\n",
    "# from module.nn_model_with_regularizer import NNModel as NNModelv3\n",
    "from module.nn_model_tf_v3 import NNModel as NNModelv3\n",
    "from module.nn_model_tf_v21 import NNModel as NNModelv21\n",
    "\n",
    "choosed_model = NNModelv2"
   ]
  },
  {
   "cell_type": "code",
   "execution_count": 20,
   "metadata": {},
   "outputs": [],
   "source": [
    "FDRNN_converter = FDRNNConverter(general_params['phi_h'], general_params['phi_o'])\n",
    "rnn_model = FDRNN_converter.fd_to_rnn(FD, choosed_model)"
   ]
  },
  {
   "cell_type": "code",
   "execution_count": 21,
   "metadata": {},
   "outputs": [
    {
     "data": {
      "text/plain": [
       "['Teacup Temperature']"
      ]
     },
     "execution_count": 21,
     "metadata": {},
     "output_type": "execute_result"
    }
   ],
   "source": [
    "FD.levels"
   ]
  },
  {
   "cell_type": "code",
   "execution_count": 22,
   "metadata": {},
   "outputs": [
    {
     "data": {
      "text/plain": [
       "['Characteristic Time', 'Room Temperature']"
      ]
     },
     "execution_count": 22,
     "metadata": {},
     "output_type": "execute_result"
    }
   ],
   "source": [
    "FD.constants"
   ]
  },
  {
   "cell_type": "code",
   "execution_count": 23,
   "metadata": {},
   "outputs": [
    {
     "data": {
      "text/plain": [
       "[rate : Heat Loss to Room\n",
       " flow : start : Teacup Temperature,\tend : None\n",
       " \n",
       " Characteristic Time : 1\n",
       " Room Temperature : -1\n",
       " Teacup Temperature : 1\n",
       " ]"
      ]
     },
     "execution_count": 23,
     "metadata": {},
     "output_type": "execute_result"
    }
   ],
   "source": [
    "FD.rates"
   ]
  },
  {
   "cell_type": "code",
   "execution_count": 25,
   "metadata": {},
   "outputs": [
    {
     "data": {
      "text/plain": [
       "array([[40., 10., 70.]])"
      ]
     },
     "execution_count": 25,
     "metadata": {},
     "output_type": "execute_result"
    }
   ],
   "source": [
    "initial_value = np.reshape(prn_valid_X[0], [1, prn_valid_X.shape[1]])\n",
    "initial_value"
   ]
  },
  {
   "cell_type": "code",
   "execution_count": 29,
   "metadata": {},
   "outputs": [
    {
     "data": {
      "text/plain": [
       "50"
      ]
     },
     "execution_count": 29,
     "metadata": {},
     "output_type": "execute_result"
    }
   ],
   "source": [
    "iterations_count = args['iterations_count']\n",
    "if iterations_count == 0:\n",
    "    iterations_count = X.shape[0] - 1\n",
    "iterations_count"
   ]
  },
  {
   "cell_type": "code",
   "execution_count": 30,
   "metadata": {},
   "outputs": [],
   "source": [
    "prn_iterative = rnn_model.get_simulation(initial_value, iterations_count, prn_model_dir)"
   ]
  },
  {
   "cell_type": "code",
   "execution_count": 31,
   "metadata": {},
   "outputs": [
    {
     "data": {
      "text/plain": [
       "(51, 3)"
      ]
     },
     "execution_count": 31,
     "metadata": {},
     "output_type": "execute_result"
    }
   ],
   "source": [
    "prn_iterative.shape"
   ]
  },
  {
   "cell_type": "code",
   "execution_count": 33,
   "metadata": {},
   "outputs": [
    {
     "data": {
      "text/plain": [
       "<matplotlib.legend.Legend at 0x1f8e17de160>"
      ]
     },
     "execution_count": 33,
     "metadata": {},
     "output_type": "execute_result"
    },
    {
     "data": {
      "text/plain": [
       "<Figure size 432x288 with 0 Axes>"
      ]
     },
     "metadata": {},
     "output_type": "display_data"
    },
    {
     "data": {
      "image/png": "[encoded data removed]",
      "text/plain": [
       "<Figure size 1152x648 with 1 Axes>"
      ]
     },
     "metadata": {
      "needs_background": "light"
     },
     "output_type": "display_data"
    }
   ],
   "source": [
    "import matplotlib.pyplot as plt\n",
    "\n",
    "plt.clf()\n",
    "\n",
    "plt.figure(figsize=(16, 9))\n",
    "column = 0\n",
    "\n",
    "plt.title(fields[column])\n",
    "plt.xlabel('time')\n",
    "plt.xlabel('count')\n",
    "plt.plot(prn_valid_y[:iterations_count, column], label='y')\n",
    "plt.plot(prn_iterative[:, column], label='prn')\n",
    "# plt.plot(nn_iterative[:, column], label='nn')\n",
    "plt.grid()\n",
    "plt.legend()"
   ]
  },
  {
   "cell_type": "code",
   "execution_count": 36,
   "metadata": {},
   "outputs": [],
   "source": [
    "import tensorflow as tf"
   ]
  },
  {
   "cell_type": "code",
   "execution_count": 37,
   "metadata": {},
   "outputs": [],
   "source": [
    "def parse_weights(gate, w, fields):\n",
    "    equations = []\n",
    "    for col_idx in range(gate.shape[1]):\n",
    "        equation = ''\n",
    "        for row_idx in range(gate.shape[0]):\n",
    "            if (w[row_idx, col_idx] == 0):\n",
    "                continue\n",
    "            if gate[row_idx, col_idx] == 0:\n",
    "                sign = '*' if w[row_idx, col_idx] > 0 else '/'\n",
    "                weight = np.abs(w[row_idx, col_idx])\n",
    "                weight = '' if weight == 1 else weight\n",
    "                equation += '{}{}{}'.format(sign, weight, fields[row_idx])\n",
    "        for row_idx in range(gate.shape[0]):\n",
    "            if (w[row_idx, col_idx] == 0):\n",
    "                continue\n",
    "            if gate[row_idx, col_idx] == 1:\n",
    "                sign = '+' if w[row_idx, col_idx] > 0 else '-'\n",
    "                weight = np.abs(w[row_idx, col_idx])\n",
    "                weight = '' if weight == 1 else weight\n",
    "                equation += '{}{}{}'.format(sign, weight, fields[row_idx])\n",
    "\n",
    "        equations.append(equation)\n",
    "    return equations"
   ]
  },
  {
   "cell_type": "code",
   "execution_count": 41,
   "metadata": {},
   "outputs": [
    {
     "data": {
      "text/plain": [
       "['/Characteristic Time']"
      ]
     },
     "execution_count": 41,
     "metadata": {},
     "output_type": "execute_result"
    }
   ],
   "source": [
    "_gate = np.array(tf.round(rnn_model.model.gate), dtype=np.int32)\n",
    "_w = np.array(tf.round(rnn_model.model.W_ah), dtype=np.int32)\n",
    "# print(fields)\n",
    "parse_weights(_gate, _w, fields)"
   ]
  },
  {
   "cell_type": "code",
   "execution_count": 44,
   "metadata": {},
   "outputs": [
    {
     "data": {
      "text/plain": [
       "<tf.Tensor: shape=(3, 1), dtype=float32, numpy=\n",
       "array([[1.],\n",
       "       [1.],\n",
       "       [0.]], dtype=float32)>"
      ]
     },
     "execution_count": 44,
     "metadata": {},
     "output_type": "execute_result"
    }
   ],
   "source": [
    "tf.round(tf.math.sigmoid(rnn_model.model.gate))"
   ]
  },
  {
   "cell_type": "code",
   "execution_count": null,
   "metadata": {},
   "outputs": [],
   "source": []
  }
 ],
 "metadata": {
  "kernelspec": {
   "display_name": "Python 3",
   "language": "python",
   "name": "python3"
  },
  "language_info": {
   "codemirror_mode": {
    "name": "ipython",
    "version": 3
   },
   "file_extension": ".py",
   "mimetype": "text/x-python",
   "name": "python",
   "nbconvert_exporter": "python",
   "pygments_lexer": "ipython3",
   "version": "3.6.7"
  }
 },
 "nbformat": 4,
 "nbformat_minor": 2
}
