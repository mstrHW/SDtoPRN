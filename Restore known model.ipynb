{
 "cells": [
  {
   "cell_type": "code",
   "execution_count": 1,
   "metadata": {},
   "outputs": [],
   "source": [
    "import numpy as np"
   ]
  },
  {
   "cell_type": "code",
   "execution_count": 2,
   "metadata": {},
   "outputs": [],
   "source": [
    "from definitions import path_join, make_directory, EXPERIMENTS_DIR, VENSIM_MODELS_DIR, logging"
   ]
  },
  {
   "cell_type": "code",
   "execution_count": 3,
   "metadata": {},
   "outputs": [],
   "source": [
    "KNOWN_MODEL = 'known model'\n",
    "UNKNOWN_MODEL = 'unknown model'"
   ]
  },
  {
   "cell_type": "code",
   "execution_count": 4,
   "metadata": {},
   "outputs": [],
   "source": [
    "model_name = 'predator_prey'\n",
    "experiment_name = '{}_find_coefficients_2000'.format(model_name)\n",
    "\n",
    "mode = KNOWN_MODEL\n",
    "need_retrain = False"
   ]
  },
  {
   "cell_type": "code",
   "execution_count": 5,
   "metadata": {},
   "outputs": [],
   "source": [
    "import tensorflow as tf\n",
    "\n",
    "general_params = {\n",
    "    'phi_h': tf.keras.activations.linear,\n",
    "    'phi_o': tf.keras.activations.linear,\n",
    "}\n",
    "\n",
    "train_params = {\n",
    "    'learning_rate': 1e-1,\n",
    "    'epochs_before_decay': 100,\n",
    "    'epochs_count': 50,\n",
    "    'learning_rate_decay': 0.9,\n",
    "    'iterations_count': 300,\n",
    "    'early_stopping_patience': 10,\n",
    "}"
   ]
  },
  {
   "cell_type": "code",
   "execution_count": 6,
   "metadata": {},
   "outputs": [],
   "source": [
    "def create_experiment_enviroment(model_name, experiment_name, mode):\n",
    "    experiment_settings = dict()\n",
    "    \n",
    "    experiment_settings['model_name'] = model_name\n",
    "    experiment_settings['experiment_name'] = experiment_name\n",
    "    experiment_settings['mode'] = mode\n",
    "    \n",
    "    experiment_dir = path_join(EXPERIMENTS_DIR, experiment_name)\n",
    "    make_directory(experiment_dir)\n",
    "    experiment_settings['experiment_dir'] = experiment_dir\n",
    "    \n",
    "    tf_model_dir = path_join(experiment_dir, 'tf_model')\n",
    "    make_directory(tf_model_dir)\n",
    "    experiment_settings['tf_model_dir'] = tf_model_dir\n",
    "    \n",
    "    images_dir = path_join(experiment_dir, 'images')\n",
    "    make_directory(images_dir)\n",
    "    experiment_settings['images_dir'] = images_dir\n",
    "    \n",
    "    log_path = path_join(experiment_dir, 'log.log')\n",
    "    logging.basicConfig(filename=log_path, level=logging.INFO)\n",
    "    experiment_settings['log_path'] = log_path\n",
    "\n",
    "    vensim_model_file = path_join(VENSIM_MODELS_DIR, '{}.mdl'.format(model_name))\n",
    "    experiment_settings['vensim_model_file'] = vensim_model_file\n",
    "    \n",
    "    prn_model_dir = path_join(tf_model_dir, 'prn_model')\n",
    "    nn_model_dir = path_join(tf_model_dir, 'base_nn_model')\n",
    "    make_directory(prn_model_dir)\n",
    "    make_directory(nn_model_dir)\n",
    "    experiment_settings['prn_model_dir'] = prn_model_dir\n",
    "    experiment_settings['nn_model_dir'] = nn_model_dir\n",
    "\n",
    "    return experiment_settings\n",
    "    \n",
    "experiment_settings = create_experiment_enviroment(model_name, experiment_name, mode)"
   ]
  },
  {
   "cell_type": "code",
   "execution_count": 7,
   "metadata": {},
   "outputs": [
    {
     "data": {
      "text/plain": [
       "'C:\\\\Users\\\\HWer\\\\Documents\\\\GitHub\\\\SDtoPRN\\\\vensim_models\\\\predator_prey.mdl'"
      ]
     },
     "execution_count": 7,
     "metadata": {},
     "output_type": "execute_result"
    }
   ],
   "source": [
    "experiment_settings['vensim_model_file']"
   ]
  },
  {
   "cell_type": "code",
   "execution_count": 8,
   "metadata": {},
   "outputs": [],
   "source": [
    "from definitions import path_join, DATA_DIR\n",
    "\n",
    "dataset_dir = path_join(DATA_DIR, model_name)\n",
    "dataset_file = path_join(dataset_dir, 'dataset_2000.csv')"
   ]
  },
  {
   "cell_type": "code",
   "execution_count": 9,
   "metadata": {},
   "outputs": [],
   "source": [
    "from module.fd_model.vensim_fd_converter import create_known_model\n",
    "\n",
    "FD = create_known_model(experiment_settings['vensim_model_file'])"
   ]
  },
  {
   "cell_type": "code",
   "execution_count": 10,
   "metadata": {
    "scrolled": true
   },
   "outputs": [
    {
     "data": {
      "text/html": [
       "<div>\n",
       "<style scoped>\n",
       "    .dataframe tbody tr th:only-of-type {\n",
       "        vertical-align: middle;\n",
       "    }\n",
       "\n",
       "    .dataframe tbody tr th {\n",
       "        vertical-align: top;\n",
       "    }\n",
       "\n",
       "    .dataframe thead th {\n",
       "        text-align: right;\n",
       "    }\n",
       "</style>\n",
       "<table border=\"1\" class=\"dataframe\">\n",
       "  <thead>\n",
       "    <tr style=\"text-align: right;\">\n",
       "      <th></th>\n",
       "      <th>sim_index</th>\n",
       "      <th>Predator Population</th>\n",
       "      <th>Prey Population</th>\n",
       "      <th>predator birth fraction</th>\n",
       "      <th>predator death proportionality constant</th>\n",
       "      <th>prey birth fraction</th>\n",
       "      <th>prey death proportionality constant</th>\n",
       "    </tr>\n",
       "  </thead>\n",
       "  <tbody>\n",
       "    <tr>\n",
       "      <th>0</th>\n",
       "      <td>0</td>\n",
       "      <td>25.000000</td>\n",
       "      <td>50.000000</td>\n",
       "      <td>0.025</td>\n",
       "      <td>1.06</td>\n",
       "      <td>1.25</td>\n",
       "      <td>0.015</td>\n",
       "    </tr>\n",
       "    <tr>\n",
       "      <th>1</th>\n",
       "      <td>0</td>\n",
       "      <td>25.148438</td>\n",
       "      <td>51.367188</td>\n",
       "      <td>0.025</td>\n",
       "      <td>1.06</td>\n",
       "      <td>1.25</td>\n",
       "      <td>0.015</td>\n",
       "    </tr>\n",
       "    <tr>\n",
       "      <th>2</th>\n",
       "      <td>0</td>\n",
       "      <td>25.324618</td>\n",
       "      <td>52.768185</td>\n",
       "      <td>0.025</td>\n",
       "      <td>1.06</td>\n",
       "      <td>1.25</td>\n",
       "      <td>0.015</td>\n",
       "    </tr>\n",
       "    <tr>\n",
       "      <th>3</th>\n",
       "      <td>0</td>\n",
       "      <td>25.529751</td>\n",
       "      <td>54.203036</td>\n",
       "      <td>0.025</td>\n",
       "      <td>1.06</td>\n",
       "      <td>1.25</td>\n",
       "      <td>0.015</td>\n",
       "    </tr>\n",
       "    <tr>\n",
       "      <th>4</th>\n",
       "      <td>0</td>\n",
       "      <td>25.765164</td>\n",
       "      <td>55.671690</td>\n",
       "      <td>0.025</td>\n",
       "      <td>1.06</td>\n",
       "      <td>1.25</td>\n",
       "      <td>0.015</td>\n",
       "    </tr>\n",
       "    <tr>\n",
       "      <th>5</th>\n",
       "      <td>0</td>\n",
       "      <td>26.032310</td>\n",
       "      <td>57.173995</td>\n",
       "      <td>0.025</td>\n",
       "      <td>1.06</td>\n",
       "      <td>1.25</td>\n",
       "      <td>0.015</td>\n",
       "    </tr>\n",
       "    <tr>\n",
       "      <th>6</th>\n",
       "      <td>0</td>\n",
       "      <td>26.332780</td>\n",
       "      <td>58.709680</td>\n",
       "      <td>0.025</td>\n",
       "      <td>1.06</td>\n",
       "      <td>1.25</td>\n",
       "      <td>0.015</td>\n",
       "    </tr>\n",
       "    <tr>\n",
       "      <th>7</th>\n",
       "      <td>0</td>\n",
       "      <td>26.668310</td>\n",
       "      <td>60.278345</td>\n",
       "      <td>0.025</td>\n",
       "      <td>1.06</td>\n",
       "      <td>1.25</td>\n",
       "      <td>0.015</td>\n",
       "    </tr>\n",
       "    <tr>\n",
       "      <th>8</th>\n",
       "      <td>0</td>\n",
       "      <td>27.040799</td>\n",
       "      <td>61.879442</td>\n",
       "      <td>0.025</td>\n",
       "      <td>1.06</td>\n",
       "      <td>1.25</td>\n",
       "      <td>0.015</td>\n",
       "    </tr>\n",
       "    <tr>\n",
       "      <th>9</th>\n",
       "      <td>0</td>\n",
       "      <td>27.452314</td>\n",
       "      <td>63.512262</td>\n",
       "      <td>0.025</td>\n",
       "      <td>1.06</td>\n",
       "      <td>1.25</td>\n",
       "      <td>0.015</td>\n",
       "    </tr>\n",
       "  </tbody>\n",
       "</table>\n",
       "</div>"
      ],
      "text/plain": [
       "   sim_index  Predator Population  Prey Population  predator birth fraction  \\\n",
       "0          0            25.000000        50.000000                    0.025   \n",
       "1          0            25.148438        51.367188                    0.025   \n",
       "2          0            25.324618        52.768185                    0.025   \n",
       "3          0            25.529751        54.203036                    0.025   \n",
       "4          0            25.765164        55.671690                    0.025   \n",
       "5          0            26.032310        57.173995                    0.025   \n",
       "6          0            26.332780        58.709680                    0.025   \n",
       "7          0            26.668310        60.278345                    0.025   \n",
       "8          0            27.040799        61.879442                    0.025   \n",
       "9          0            27.452314        63.512262                    0.025   \n",
       "\n",
       "   predator death proportionality constant  prey birth fraction  \\\n",
       "0                                     1.06                 1.25   \n",
       "1                                     1.06                 1.25   \n",
       "2                                     1.06                 1.25   \n",
       "3                                     1.06                 1.25   \n",
       "4                                     1.06                 1.25   \n",
       "5                                     1.06                 1.25   \n",
       "6                                     1.06                 1.25   \n",
       "7                                     1.06                 1.25   \n",
       "8                                     1.06                 1.25   \n",
       "9                                     1.06                 1.25   \n",
       "\n",
       "   prey death proportionality constant  \n",
       "0                                0.015  \n",
       "1                                0.015  \n",
       "2                                0.015  \n",
       "3                                0.015  \n",
       "4                                0.015  \n",
       "5                                0.015  \n",
       "6                                0.015  \n",
       "7                                0.015  \n",
       "8                                0.015  \n",
       "9                                0.015  "
      ]
     },
     "execution_count": 10,
     "metadata": {},
     "output_type": "execute_result"
    }
   ],
   "source": [
    "import pandas as pd\n",
    "\n",
    "data = pd.read_csv(dataset_file)\n",
    "data.head(10)"
   ]
  },
  {
   "cell_type": "code",
   "execution_count": 11,
   "metadata": {},
   "outputs": [
    {
     "data": {
      "text/plain": [
       "['Predator Population',\n",
       " 'Prey Population',\n",
       " 'predator birth fraction',\n",
       " 'predator death proportionality constant',\n",
       " 'prey birth fraction',\n",
       " 'prey death proportionality constant']"
      ]
     },
     "execution_count": 11,
     "metadata": {},
     "output_type": "execute_result"
    }
   ],
   "source": [
    "fields = [level for level in FD.names_units_map.keys()]\n",
    "fields"
   ]
  },
  {
   "cell_type": "code",
   "execution_count": 12,
   "metadata": {},
   "outputs": [],
   "source": [
    "# from sklearn.preprocessing import MinMaxScaler\n",
    "# scaler = MinMaxScaler((0.001, 1))\n",
    "# scaler.fit(data[fields])\n",
    "# data[fields] = scaler.transform(data[fields])"
   ]
  },
  {
   "cell_type": "code",
   "execution_count": 13,
   "metadata": {},
   "outputs": [],
   "source": [
    "from sklearn.model_selection import train_test_split\n",
    "\n",
    "\n",
    "def np_preproc_for_rnn3d(numpy_array, fields):\n",
    "    x_groups = [group[1][fields].values[:-1] for group in numpy_array]\n",
    "    y_groups = [group[1][fields].values[1:] for group in numpy_array]\n",
    "    \n",
    "    train_X, valid_X, train_y, valid_y = train_test_split(x_groups, y_groups, test_size=0.2, random_state=123)\n",
    "    \n",
    "    train_X = np.concatenate(train_X, axis=0)\n",
    "    valid_X = np.concatenate(valid_X, axis=0)\n",
    "    \n",
    "    train_y = np.concatenate(train_y, axis=0)\n",
    "    valid_y = np.concatenate(valid_y, axis=0)\n",
    "\n",
    "    return (train_X, train_y), (valid_X, valid_y)\n",
    "\n",
    "\n",
    "def generate_train_data(df, fields):\n",
    "    dataset = df[fields].values\n",
    "    grouped = df.groupby(['sim_index'])[fields]\n",
    "    \n",
    "    return dataset, np_preproc_for_rnn3d(grouped, fields)"
   ]
  },
  {
   "cell_type": "code",
   "execution_count": 14,
   "metadata": {},
   "outputs": [],
   "source": [
    "_, (prn_train, prn_valid) = generate_train_data(data, fields)"
   ]
  },
  {
   "cell_type": "code",
   "execution_count": 15,
   "metadata": {},
   "outputs": [],
   "source": [
    "prn_train_X, prn_train_y = prn_train\n",
    "prn_valid_X, prn_valid_y = prn_valid"
   ]
  },
  {
   "cell_type": "code",
   "execution_count": 16,
   "metadata": {},
   "outputs": [
    {
     "data": {
      "text/plain": [
       "(120000, 6)"
      ]
     },
     "execution_count": 16,
     "metadata": {},
     "output_type": "execute_result"
    }
   ],
   "source": [
    "prn_valid_X.shape"
   ]
  },
  {
   "cell_type": "code",
   "execution_count": 17,
   "metadata": {},
   "outputs": [],
   "source": [
    "import tensorflow as tf\n",
    "from tensorflow.python.framework import ops\n",
    "\n",
    "ops.reset_default_graph()"
   ]
  },
  {
   "cell_type": "code",
   "execution_count": 18,
   "metadata": {},
   "outputs": [],
   "source": [
    "from module.fd_model.fd_rnn_converter import FDRNNConverter\n",
    "from module.nn_model_tf_v2 import NNModel as NNModelv2\n",
    "from module.nn_model_tf_v3 import NNModel as NNModelv3\n",
    "from module.nn_model_tf_v21 import NNModel as NNModelv21\n",
    "\n",
    "choosed_model = NNModelv2"
   ]
  },
  {
   "cell_type": "code",
   "execution_count": 19,
   "metadata": {},
   "outputs": [],
   "source": [
    "FDRNN_converter = FDRNNConverter(general_params['phi_h'], general_params['phi_o'])\n",
    "rnn_model = FDRNN_converter.fd_to_rnn(FD, choosed_model)"
   ]
  },
  {
   "cell_type": "code",
   "execution_count": 20,
   "metadata": {},
   "outputs": [
    {
     "data": {
      "text/plain": [
       "0.03125"
      ]
     },
     "execution_count": 20,
     "metadata": {},
     "output_type": "execute_result"
    }
   ],
   "source": [
    "FD.levels\n",
    "# FD.constants\n",
    "# FD.rates\n",
    "FD.dT"
   ]
  },
  {
   "cell_type": "code",
   "execution_count": 21,
   "metadata": {},
   "outputs": [
    {
     "data": {
      "text/plain": [
       "['Predator Population',\n",
       " 'Prey Population',\n",
       " 'predator birth fraction',\n",
       " 'predator death proportionality constant',\n",
       " 'prey birth fraction',\n",
       " 'prey death proportionality constant']"
      ]
     },
     "execution_count": 21,
     "metadata": {},
     "output_type": "execute_result"
    }
   ],
   "source": [
    "fields"
   ]
  },
  {
   "cell_type": "code",
   "execution_count": 22,
   "metadata": {},
   "outputs": [],
   "source": [
    "# rnn_model.model.gate = gate\n",
    "# rnn_model.model.W_ah = W"
   ]
  },
  {
   "cell_type": "code",
   "execution_count": 23,
   "metadata": {},
   "outputs": [],
   "source": [
    "if need_retrain:\n",
    "    rnn_model.train(prn_train_X, prn_train_y, (prn_valid_X, prn_valid_y), train_params, experiment_settings['prn_model_dir'])"
   ]
  },
  {
   "cell_type": "code",
   "execution_count": 24,
   "metadata": {},
   "outputs": [],
   "source": [
    "rnn_model.load(experiment_settings['prn_model_dir'])"
   ]
  },
  {
   "cell_type": "code",
   "execution_count": 25,
   "metadata": {},
   "outputs": [],
   "source": [
    "# tf.round(rnn_model.model.gate)\n",
    "# tf.round(rnn_model.model.W_ah)\n",
    "# rnn_model.model.W_xy\n",
    "# rnn_model.model.W_xy"
   ]
  },
  {
   "cell_type": "code",
   "execution_count": 26,
   "metadata": {},
   "outputs": [
    {
     "data": {
      "text/plain": [
       "<tf.Variable 'Variable:0' shape=(6, 4) dtype=float32, numpy=\n",
       "array([[-0.54611146, -0.4889502 ,  1.0489897 ,  0.00250586],\n",
       "       [-0.03462083,  0.9936567 , -0.4815463 , -0.50194484],\n",
       "       [-0.5337537 ,  0.9942288 ,  0.99988   ,  0.9917477 ],\n",
       "       [ 0.9870347 , -1.036548  ,  1.009165  ,  1.004189  ],\n",
       "       [ 0.99920315,  0.9980368 , -0.5761102 ,  0.99845445],\n",
       "       [ 1.003768  ,  1.0032344 ,  1.0063292 , -0.49127093]],\n",
       "      dtype=float32)>"
      ]
     },
     "execution_count": 26,
     "metadata": {},
     "output_type": "execute_result"
    }
   ],
   "source": [
    "rnn_model.model.gate"
   ]
  },
  {
   "cell_type": "code",
   "execution_count": 27,
   "metadata": {},
   "outputs": [
    {
     "data": {
      "text/plain": [
       "<tf.Tensor: shape=(6, 4), dtype=float32, numpy=\n",
       "array([[-1.,  0.,  1.,  0.],\n",
       "       [ 0.,  1.,  0., -1.],\n",
       "       [-1.,  1.,  1.,  1.],\n",
       "       [ 1., -1.,  1.,  1.],\n",
       "       [ 1.,  1., -1.,  1.],\n",
       "       [ 1.,  1.,  1.,  0.]], dtype=float32)>"
      ]
     },
     "execution_count": 27,
     "metadata": {},
     "output_type": "execute_result"
    }
   ],
   "source": [
    "tf.round(rnn_model.model.gate)"
   ]
  },
  {
   "cell_type": "code",
   "execution_count": 28,
   "metadata": {},
   "outputs": [
    {
     "data": {
      "text/plain": [
       "<tf.Tensor: shape=(6, 4), dtype=float32, numpy=\n",
       "array([[0., 0., 1., 1.],\n",
       "       [0., 1., 0., 0.],\n",
       "       [0., 1., 1., 1.],\n",
       "       [1., 0., 1., 1.],\n",
       "       [1., 1., 0., 1.],\n",
       "       [1., 1., 1., 0.]], dtype=float32)>"
      ]
     },
     "execution_count": 28,
     "metadata": {},
     "output_type": "execute_result"
    }
   ],
   "source": [
    "tf.round(tf.sigmoid(rnn_model.model.gate))"
   ]
  },
  {
   "cell_type": "code",
   "execution_count": 29,
   "metadata": {},
   "outputs": [
    {
     "data": {
      "text/plain": [
       "<tf.Tensor: shape=(6, 4), dtype=float32, numpy=\n",
       "array([[1., 1., 0., 1.],\n",
       "       [1., 0., 1., 1.],\n",
       "       [1., 0., 0., 0.],\n",
       "       [0., 0., 0., 0.],\n",
       "       [0., 0., 1., 0.],\n",
       "       [0., 0., 0., 1.]], dtype=float32)>"
      ]
     },
     "execution_count": 29,
     "metadata": {},
     "output_type": "execute_result"
    }
   ],
   "source": [
    "tf.round(rnn_model.model.W_ah)"
   ]
  },
  {
   "cell_type": "code",
   "execution_count": 30,
   "metadata": {},
   "outputs": [],
   "source": [
    "def parse_weights(gate, w, fields):\n",
    "    equations = []\n",
    "    for col_idx in range(gate.shape[1]):\n",
    "        equation = ''\n",
    "        for row_idx in range(gate.shape[0]):\n",
    "            if (w[row_idx, col_idx] == 0):\n",
    "                continue\n",
    "            if gate[row_idx, col_idx] == 0:\n",
    "                sign = '*' if w[row_idx, col_idx] > 0 else '/'\n",
    "                weight = np.abs(w[row_idx, col_idx])\n",
    "                weight = '' if weight == 1 else weight\n",
    "                equation += '{}{}{}'.format(sign, weight, fields[row_idx])\n",
    "        for row_idx in range(gate.shape[0]):\n",
    "            if (w[row_idx, col_idx] == 0):\n",
    "                continue\n",
    "            if gate[row_idx, col_idx] == 1:\n",
    "                sign = '+' if w[row_idx, col_idx] > 0 else '-'\n",
    "                weight = np.abs(w[row_idx, col_idx])\n",
    "                weight = '' if weight == 1 else weight\n",
    "                equation += '{}{}{}'.format(sign, weight, fields[row_idx])\n",
    "\n",
    "        equations.append(equation)\n",
    "    return equations"
   ]
  },
  {
   "cell_type": "code",
   "execution_count": 31,
   "metadata": {},
   "outputs": [
    {
     "data": {
      "text/plain": [
       "['*Predator Population*Prey Population*predator birth fraction',\n",
       " '*Predator Population',\n",
       " '*Prey Population*prey birth fraction',\n",
       " '*Prey Population*prey death proportionality constant+Predator Population']"
      ]
     },
     "execution_count": 31,
     "metadata": {},
     "output_type": "execute_result"
    }
   ],
   "source": [
    "_gate = np.array(tf.round(tf.sigmoid(rnn_model.model.gate)), dtype=np.int32)\n",
    "_w = np.array(tf.round(rnn_model.model.W_ah), dtype=np.int32)\n",
    "# print(fields)\n",
    "parse_weights(_gate, _w, fields)"
   ]
  },
  {
   "cell_type": "code",
   "execution_count": 34,
   "metadata": {},
   "outputs": [
    {
     "data": {
      "text/plain": [
       "<tf.Variable 'Variable:0' shape=(6, 4) dtype=float32, numpy=\n",
       "array([[0., 0., 0., 0.],\n",
       "       [0., 0., 0., 0.],\n",
       "       [0., 0., 0., 0.],\n",
       "       [0., 0., 0., 0.],\n",
       "       [0., 0., 0., 0.],\n",
       "       [0., 0., 0., 0.]], dtype=float32)>"
      ]
     },
     "execution_count": 34,
     "metadata": {},
     "output_type": "execute_result"
    }
   ],
   "source": [
    "rnn_model.model.gate"
   ]
  },
  {
   "cell_type": "code",
   "execution_count": 35,
   "metadata": {},
   "outputs": [
    {
     "data": {
      "text/plain": [
       "<tf.Tensor: shape=(6, 4), dtype=float32, numpy=\n",
       "array([[0., 0., 0., 0.],\n",
       "       [0., 0., 0., 0.],\n",
       "       [0., 0., 0., 0.],\n",
       "       [0., 0., 0., 0.],\n",
       "       [0., 0., 0., 0.],\n",
       "       [0., 0., 0., 0.]], dtype=float32)>"
      ]
     },
     "execution_count": 35,
     "metadata": {},
     "output_type": "execute_result"
    }
   ],
   "source": [
    "tf.round(rnn_model.model.gate)"
   ]
  },
  {
   "cell_type": "code",
   "execution_count": 36,
   "metadata": {},
   "outputs": [
    {
     "data": {
      "text/plain": [
       "<tf.Variable 'Variable:0' shape=(6, 4) dtype=float32, numpy=\n",
       "array([[1., 1., 0., 1.],\n",
       "       [1., 0., 1., 1.],\n",
       "       [1., 0., 0., 0.],\n",
       "       [0., 1., 0., 0.],\n",
       "       [0., 0., 1., 0.],\n",
       "       [0., 0., 0., 1.]], dtype=float32)>"
      ]
     },
     "execution_count": 36,
     "metadata": {},
     "output_type": "execute_result"
    }
   ],
   "source": [
    "rnn_model.model.W_ah"
   ]
  },
  {
   "cell_type": "code",
   "execution_count": 37,
   "metadata": {},
   "outputs": [
    {
     "data": {
      "text/plain": [
       "<tf.Tensor: shape=(6, 4), dtype=float32, numpy=\n",
       "array([[1., 1., 0., 1.],\n",
       "       [1., 0., 1., 1.],\n",
       "       [1., 0., 0., 0.],\n",
       "       [0., 1., 0., 0.],\n",
       "       [0., 0., 1., 0.],\n",
       "       [0., 0., 0., 1.]], dtype=float32)>"
      ]
     },
     "execution_count": 37,
     "metadata": {},
     "output_type": "execute_result"
    }
   ],
   "source": [
    "tf.round(rnn_model.model.W_ah)"
   ]
  },
  {
   "cell_type": "code",
   "execution_count": 38,
   "metadata": {},
   "outputs": [
    {
     "data": {
      "text/plain": [
       "<tf.Tensor: shape=(6, 6), dtype=float32, numpy=\n",
       "array([[1., 0., 0., 0., 0., 0.],\n",
       "       [0., 1., 0., 0., 0., 0.],\n",
       "       [0., 0., 1., 0., 0., 0.],\n",
       "       [0., 0., 0., 1., 0., 0.],\n",
       "       [0., 0., 0., 0., 1., 0.],\n",
       "       [0., 0., 0., 0., 0., 1.]], dtype=float32)>"
      ]
     },
     "execution_count": 38,
     "metadata": {},
     "output_type": "execute_result"
    }
   ],
   "source": [
    "rnn_model.model.W_xy"
   ]
  },
  {
   "cell_type": "code",
   "execution_count": 39,
   "metadata": {},
   "outputs": [
    {
     "data": {
      "text/plain": [
       "<tf.Tensor: shape=(4, 6), dtype=float32, numpy=\n",
       "array([[ 0.03125,  0.     ,  0.     ,  0.     ,  0.     ,  0.     ],\n",
       "       [-0.03125,  0.     ,  0.     ,  0.     ,  0.     ,  0.     ],\n",
       "       [ 0.     ,  0.03125,  0.     ,  0.     ,  0.     ,  0.     ],\n",
       "       [ 0.     , -0.03125,  0.     ,  0.     ,  0.     ,  0.     ]],\n",
       "      dtype=float32)>"
      ]
     },
     "execution_count": 39,
     "metadata": {},
     "output_type": "execute_result"
    }
   ],
   "source": [
    "rnn_model.model.W_ry"
   ]
  },
  {
   "cell_type": "code",
   "execution_count": 40,
   "metadata": {},
   "outputs": [],
   "source": [
    "def get_weights(rnn_model, model_dir, FDRNN_converter):\n",
    "    weights = rnn_model.get_weights(model_dir)\n",
    "    w = weights['W']\n",
    "    edges_list = FDRNN_converter.print_w(w)\n",
    "\n",
    "    return w, edges_list"
   ]
  },
  {
   "cell_type": "code",
   "execution_count": 41,
   "metadata": {},
   "outputs": [
    {
     "ename": "NameError",
     "evalue": "name 'prn_model_dir' is not defined",
     "output_type": "error",
     "traceback": [
      "\u001b[1;31m---------------------------------------------------------------------------\u001b[0m",
      "\u001b[1;31mNameError\u001b[0m                                 Traceback (most recent call last)",
      "\u001b[1;32m<ipython-input-41-268b275bd6e5>\u001b[0m in \u001b[0;36m<module>\u001b[1;34m\u001b[0m\n\u001b[1;32m----> 1\u001b[1;33m \u001b[0mweight\u001b[0m\u001b[1;33m,\u001b[0m \u001b[0medges_list\u001b[0m \u001b[1;33m=\u001b[0m \u001b[0mget_weights\u001b[0m\u001b[1;33m(\u001b[0m\u001b[0mrnn_model\u001b[0m\u001b[1;33m,\u001b[0m \u001b[0mprn_model_dir\u001b[0m\u001b[1;33m,\u001b[0m \u001b[0mFDRNN_converter\u001b[0m\u001b[1;33m)\u001b[0m\u001b[1;33m\u001b[0m\u001b[1;33m\u001b[0m\u001b[0m\n\u001b[0m\u001b[0;32m      2\u001b[0m \u001b[0mweight\u001b[0m\u001b[1;33m,\u001b[0m \u001b[0medges_list\u001b[0m\u001b[1;33m\u001b[0m\u001b[1;33m\u001b[0m\u001b[0m\n",
      "\u001b[1;31mNameError\u001b[0m: name 'prn_model_dir' is not defined"
     ]
    }
   ],
   "source": [
    "weight, edges_list = get_weights(rnn_model, prn_model_dir, FDRNN_converter)\n",
    "weight, edges_list"
   ]
  },
  {
   "cell_type": "markdown",
   "metadata": {},
   "source": [
    "<h3>Try simulation</h3>"
   ]
  },
  {
   "cell_type": "code",
   "execution_count": 32,
   "metadata": {},
   "outputs": [
    {
     "data": {
      "text/plain": [
       "array([[7.50e+01, 1.00e+02, 2.00e-02, 1.04e+00, 1.75e+00, 3.50e-02]])"
      ]
     },
     "execution_count": 32,
     "metadata": {},
     "output_type": "execute_result"
    }
   ],
   "source": [
    "initial_value = np.reshape(prn_valid_X[0], [1, prn_valid_X.shape[1]])\n",
    "initial_value"
   ]
  },
  {
   "cell_type": "code",
   "execution_count": 33,
   "metadata": {},
   "outputs": [
    {
     "data": {
      "text/plain": [
       "300"
      ]
     },
     "execution_count": 33,
     "metadata": {},
     "output_type": "execute_result"
    }
   ],
   "source": [
    "iterations_count = train_params['iterations_count']\n",
    "if iterations_count == 0:\n",
    "    iterations_count = X.shape[0] - 1\n",
    "iterations_count"
   ]
  },
  {
   "cell_type": "code",
   "execution_count": 34,
   "metadata": {},
   "outputs": [],
   "source": [
    "prn_iterative = rnn_model.get_simulation(initial_value, iterations_count, experiment_settings['prn_model_dir'])"
   ]
  },
  {
   "cell_type": "code",
   "execution_count": 35,
   "metadata": {},
   "outputs": [
    {
     "data": {
      "text/plain": [
       "(301, 6)"
      ]
     },
     "execution_count": 35,
     "metadata": {},
     "output_type": "execute_result"
    }
   ],
   "source": [
    "prn_iterative.shape"
   ]
  },
  {
   "cell_type": "code",
   "execution_count": 36,
   "metadata": {},
   "outputs": [
    {
     "data": {
      "text/plain": [
       "array([[7.72634583e+01, 9.72650528e+01, 1.99999996e-02, 1.03999996e+00,\n",
       "        1.75000000e+00, 3.50000001e-02],\n",
       "       [7.94621277e+01, 9.43638840e+01, 1.99999996e-02, 1.03999996e+00,\n",
       "        1.75000000e+00, 3.50000001e-02],\n",
       "       [8.15782471e+01, 9.13221130e+01, 1.99999996e-02, 1.03999996e+00,\n",
       "        1.75000000e+00, 3.50000001e-02],\n",
       "       [8.35946045e+01, 8.81668167e+01, 1.99999996e-02, 1.03999996e+00,\n",
       "        1.75000000e+00, 3.50000001e-02],\n",
       "       [8.54949341e+01, 8.49259109e+01, 1.99999996e-02, 1.03999996e+00,\n",
       "        1.75000000e+00, 3.50000001e-02],\n",
       "       [8.72642746e+01, 8.16274414e+01, 1.99999996e-02, 1.03999996e+00,\n",
       "        1.75000000e+00, 3.50000001e-02],\n",
       "       [8.88893509e+01, 7.82989426e+01, 1.99999996e-02, 1.03999996e+00,\n",
       "        1.75000000e+00, 3.50000001e-02],\n",
       "       [9.03588028e+01, 7.49668350e+01, 1.99999996e-02, 1.03999996e+00,\n",
       "        1.75000000e+00, 3.50000001e-02],\n",
       "       [9.16634369e+01, 7.16558990e+01, 1.99999996e-02, 1.03999996e+00,\n",
       "        1.75000000e+00, 3.50000001e-02],\n",
       "       [9.27963333e+01, 6.83888016e+01, 1.99999996e-02, 1.03999996e+00,\n",
       "        1.75000000e+00, 3.50000001e-02]])"
      ]
     },
     "execution_count": 36,
     "metadata": {},
     "output_type": "execute_result"
    }
   ],
   "source": [
    "prn_iterative[1:11]"
   ]
  },
  {
   "cell_type": "code",
   "execution_count": 37,
   "metadata": {},
   "outputs": [
    {
     "data": {
      "text/plain": [
       "array([[7.72500000e+01, 9.72656250e+01, 2.00000000e-02, 1.04000000e+00,\n",
       "        1.75000000e+00, 3.50000000e-02],\n",
       "       [7.94354810e+01, 9.43666534e+01, 2.00000000e-02, 1.04000000e+00,\n",
       "        1.75000000e+00, 3.50000000e-02],\n",
       "       [8.15388656e+01, 9.13285136e+01, 2.00000000e-02, 1.04000000e+00,\n",
       "        1.75000000e+00, 3.50000000e-02],\n",
       "       [8.35431171e+01, 8.81780786e+01, 2.00000000e-02, 1.04000000e+00,\n",
       "        1.75000000e+00, 3.50000000e-02],\n",
       "       [8.54321355e+01, 8.49430203e+01, 2.00000000e-02, 1.04000000e+00,\n",
       "        1.75000000e+00, 3.50000000e-02],\n",
       "       [8.71911309e+01, 8.16511471e+01, 2.00000000e-02, 1.04000000e+00,\n",
       "        1.75000000e+00, 3.50000000e-02],\n",
       "       [8.88069541e+01, 7.83297581e+01, 2.00000000e-02, 1.04000000e+00,\n",
       "        1.75000000e+00, 3.50000000e-02],\n",
       "       [9.02683701e+01, 7.50050432e+01, 2.00000000e-02, 1.04000000e+00,\n",
       "        1.75000000e+00, 3.50000000e-02],\n",
       "       [9.15662624e+01, 7.17015564e+01, 2.00000000e-02, 1.04000000e+00,\n",
       "        1.75000000e+00, 3.50000000e-02],\n",
       "       [9.26937611e+01, 6.84417814e+01, 2.00000000e-02, 1.04000000e+00,\n",
       "        1.75000000e+00, 3.50000000e-02]])"
      ]
     },
     "execution_count": 37,
     "metadata": {},
     "output_type": "execute_result"
    }
   ],
   "source": [
    "prn_valid_y[:10]"
   ]
  },
  {
   "cell_type": "code",
   "execution_count": 50,
   "metadata": {},
   "outputs": [],
   "source": [
    "rw_images_dir = 'C:/Users/HWer/Desktop/4_sem_final_omg_2/'\n",
    "from definitions import *\n",
    "make_directory(rw_images_dir)"
   ]
  },
  {
   "cell_type": "code",
   "execution_count": 70,
   "metadata": {},
   "outputs": [
    {
     "data": {
      "text/plain": [
       "<matplotlib.legend.Legend at 0x2a5eca4fe48>"
      ]
     },
     "execution_count": 70,
     "metadata": {},
     "output_type": "execute_result"
    },
    {
     "data": {
      "text/plain": [
       "<Figure size 432x288 with 0 Axes>"
      ]
     },
     "metadata": {},
     "output_type": "display_data"
    },
    {
     "data": {
      "image/png": "[encoded data removed]",
      "text/plain": [
       "<Figure size 576x576 with 1 Axes>"
      ]
     },
     "metadata": {
      "needs_background": "light"
     },
     "output_type": "display_data"
    }
   ],
   "source": [
    "import matplotlib.pyplot as plt\n",
    "plt.clf()\n",
    "\n",
    "plt.figure(figsize=(8, 8))\n",
    "column = 3\n",
    "\n",
    "title = fields[column]\n",
    "plt.title(title)\n",
    "plt.xlabel('time')\n",
    "plt.ylabel('value')\n",
    "plt.plot(prn_valid_y[:iterations_count, column], label='y')\n",
    "plt.plot(prn_iterative[1:, column], label='predicted')\n",
    "# plt.plot(nn_iterative[:, column], label='nn')\n",
    "plt.grid()\n",
    "plt.legend()"
   ]
  },
  {
   "cell_type": "code",
   "execution_count": 52,
   "metadata": {
    "collapsed": true
   },
   "outputs": [
    {
     "data": {
      "text/plain": [
       "<Figure size 432x288 with 0 Axes>"
      ]
     },
     "metadata": {},
     "output_type": "display_data"
    },
    {
     "data": {
      "text/plain": [
       "<Figure size 576x576 with 0 Axes>"
      ]
     },
     "metadata": {},
     "output_type": "display_data"
    },
    {
     "data": {
      "text/plain": [
       "<Figure size 576x576 with 0 Axes>"
      ]
     },
     "metadata": {},
     "output_type": "display_data"
    },
    {
     "data": {
      "text/plain": [
       "<Figure size 576x576 with 0 Axes>"
      ]
     },
     "metadata": {},
     "output_type": "display_data"
    },
    {
     "data": {
      "text/plain": [
       "<Figure size 576x576 with 0 Axes>"
      ]
     },
     "metadata": {},
     "output_type": "display_data"
    },
    {
     "data": {
      "text/plain": [
       "<Figure size 576x576 with 0 Axes>"
      ]
     },
     "metadata": {},
     "output_type": "display_data"
    },
    {
     "data": {
      "image/png": "[encoded data removed]",
      "text/plain": [
       "<Figure size 576x576 with 1 Axes>"
      ]
     },
     "metadata": {
      "needs_background": "light"
     },
     "output_type": "display_data"
    }
   ],
   "source": [
    "import matplotlib.pyplot as plt\n",
    "\n",
    "for i in range(len(fields)):\n",
    "    plt.clf()\n",
    "\n",
    "    plt.figure(figsize=(8, 8))\n",
    "    column = i\n",
    "\n",
    "    title = fields[column]\n",
    "    plt.title(title)\n",
    "    plt.xlabel('time')\n",
    "    plt.ylabel('value')\n",
    "    plt.plot(prn_valid_y[:iterations_count, column], label='y')\n",
    "    plt.plot(prn_iterative[1:, column], label='predicted')\n",
    "    # plt.plot(nn_iterative[:, column], label='nn')\n",
    "    plt.grid()\n",
    "    plt.legend()\n",
    "#     plt.savefig(rw_images_dir + title + '.png')"
   ]
  },
  {
   "cell_type": "code",
   "execution_count": 60,
   "metadata": {},
   "outputs": [],
   "source": [
    "def biplot(x, y, title, model_name, images_dir):\n",
    "    plt.figure(figsize=(8, 8))\n",
    "    plt.scatter(x, y)\n",
    "    plt.grid()\n",
    "\n",
    "#     min_ylim = min(min(x), min(y))\n",
    "#     max_ylim = max(max(x), max(y))\n",
    "\n",
    "#     plt.ylim(min_ylim, max_ylim)\n",
    "\n",
    "    plt.xlabel('y')\n",
    "    plt.ylabel('predicted')\n",
    "    plt.title(title)\n",
    "\n",
    "    # plt.show()\n",
    "    image_path = path_join(images_dir, title + '.png')\n",
    "    plt.savefig(image_path)\n",
    "#     plt.gcf().clear()"
   ]
  },
  {
   "cell_type": "code",
   "execution_count": 53,
   "metadata": {},
   "outputs": [
    {
     "data": {
      "image/png": "[encoded data removed]",
      "text/plain": [
       "<Figure size 576x576 with 1 Axes>"
      ]
     },
     "metadata": {
      "needs_background": "light"
     },
     "output_type": "display_data"
    },
    {
     "data": {
      "image/png": "[encoded data removed]",
      "text/plain": [
       "<Figure size 576x576 with 1 Axes>"
      ]
     },
     "metadata": {
      "needs_background": "light"
     },
     "output_type": "display_data"
    },
    {
     "data": {
      "image/png": "[encoded data removed]",
      "text/plain": [
       "<Figure size 576x576 with 1 Axes>"
      ]
     },
     "metadata": {
      "needs_background": "light"
     },
     "output_type": "display_data"
    },
    {
     "data": {
      "image/png": "[encoded data removed]",
      "text/plain": [
       "<Figure size 576x576 with 1 Axes>"
      ]
     },
     "metadata": {
      "needs_background": "light"
     },
     "output_type": "display_data"
    },
    {
     "data": {
      "image/png": "[encoded data removed]",
      "text/plain": [
       "<Figure size 576x576 with 1 Axes>"
      ]
     },
     "metadata": {
      "needs_background": "light"
     },
     "output_type": "display_data"
    },
    {
     "data": {
      "image/png": "[encoded data removed]",
      "text/plain": [
       "<Figure size 576x576 with 1 Axes>"
      ]
     },
     "metadata": {
      "needs_background": "light"
     },
     "output_type": "display_data"
    }
   ],
   "source": [
    "for level in fields:\n",
    "    i = fields.index(level)\n",
    "    level_output = prn_iterative[1:, i]\n",
    "    level_y = prn_valid_y[:iterations_count, i]\n",
    "\n",
    "    graphs = (level_output, level_y)\n",
    "    labels = ('PRN_y', 'true_y')\n",
    "\n",
    "    biplot_name2 = 'biplot {}'.format(level)\n",
    "    biplot(level_output, level_y, biplot_name2, 'PRN', rw_images_dir)"
   ]
  },
  {
   "cell_type": "code",
   "execution_count": 85,
   "metadata": {},
   "outputs": [
    {
     "data": {
      "text/plain": [
       "array([[1.50000000e+02, 1.40000000e+02, 1.00000000e-02, 1.06000000e+00,\n",
       "        1.25000000e+00, 5.00000000e-03],\n",
       "       [1.51584076e+02, 1.42032471e+02, 9.99999978e-03, 1.05999994e+00,\n",
       "        1.25000000e+00, 4.99999989e-03],\n",
       "       [1.53281097e+02, 1.44058533e+02, 9.99999978e-03, 1.05999994e+00,\n",
       "        1.25000000e+00, 4.99999989e-03],\n",
       "       [1.55094116e+02, 1.46074463e+02, 9.99999978e-03, 1.05999994e+00,\n",
       "        1.25000000e+00, 4.99999989e-03],\n",
       "       [1.57026245e+02, 1.48076309e+02, 9.99999978e-03, 1.05999994e+00,\n",
       "        1.25000000e+00, 4.99999989e-03],\n",
       "       [1.59080612e+02, 1.50059860e+02, 9.99999978e-03, 1.05999994e+00,\n",
       "        1.25000000e+00, 4.99999989e-03],\n",
       "       [1.61260422e+02, 1.52020706e+02, 9.99999978e-03, 1.05999994e+00,\n",
       "        1.25000000e+00, 4.99999989e-03],\n",
       "       [1.63568863e+02, 1.53954178e+02, 9.99999978e-03, 1.05999994e+00,\n",
       "        1.25000000e+00, 4.99999989e-03],\n",
       "       [1.66009125e+02, 1.55855392e+02, 9.99999978e-03, 1.05999994e+00,\n",
       "        1.25000000e+00, 4.99999989e-03],\n",
       "       [1.68584381e+02, 1.57719238e+02, 9.99999978e-03, 1.05999994e+00,\n",
       "        1.25000000e+00, 4.99999989e-03],\n",
       "       [1.71297729e+02, 1.59540359e+02, 9.99999978e-03, 1.05999994e+00,\n",
       "        1.25000000e+00, 4.99999989e-03],\n",
       "       [1.74152191e+02, 1.61313217e+02, 9.99999978e-03, 1.05999994e+00,\n",
       "        1.25000000e+00, 4.99999989e-03],\n",
       "       [1.77150665e+02, 1.63032059e+02, 9.99999978e-03, 1.05999994e+00,\n",
       "        1.25000000e+00, 4.99999989e-03],\n",
       "       [1.80295883e+02, 1.64690948e+02, 9.99999978e-03, 1.05999994e+00,\n",
       "        1.25000000e+00, 4.99999989e-03],\n",
       "       [1.83590363e+02, 1.66283752e+02, 9.99999978e-03, 1.05999994e+00,\n",
       "        1.25000000e+00, 4.99999989e-03],\n",
       "       [1.87036392e+02, 1.67804214e+02, 9.99999978e-03, 1.05999994e+00,\n",
       "        1.25000000e+00, 4.99999989e-03],\n",
       "       [1.90635941e+02, 1.69245941e+02, 9.99999978e-03, 1.05999994e+00,\n",
       "        1.25000000e+00, 4.99999989e-03],\n",
       "       [1.94390625e+02, 1.70602432e+02, 9.99999978e-03, 1.05999994e+00,\n",
       "        1.25000000e+00, 4.99999989e-03],\n",
       "       [1.98301651e+02, 1.71867142e+02, 9.99999978e-03, 1.05999994e+00,\n",
       "        1.25000000e+00, 4.99999989e-03],\n",
       "       [2.02369705e+02, 1.73033493e+02, 9.99999978e-03, 1.05999994e+00,\n",
       "        1.25000000e+00, 4.99999989e-03],\n",
       "       [2.06594971e+02, 1.74094910e+02, 9.99999978e-03, 1.05999994e+00,\n",
       "        1.25000000e+00, 4.99999989e-03],\n",
       "       [2.10976959e+02, 1.75044907e+02, 9.99999978e-03, 1.05999994e+00,\n",
       "        1.25000000e+00, 4.99999989e-03],\n",
       "       [2.15514526e+02, 1.75877090e+02, 9.99999978e-03, 1.05999994e+00,\n",
       "        1.25000000e+00, 4.99999989e-03],\n",
       "       [2.20205734e+02, 1.76585236e+02, 9.99999978e-03, 1.05999994e+00,\n",
       "        1.25000000e+00, 4.99999989e-03],\n",
       "       [2.25047806e+02, 1.77163345e+02, 9.99999978e-03, 1.05999994e+00,\n",
       "        1.25000000e+00, 4.99999989e-03],\n",
       "       [2.30037018e+02, 1.77605728e+02, 9.99999978e-03, 1.05999994e+00,\n",
       "        1.25000000e+00, 4.99999989e-03],\n",
       "       [2.35168671e+02, 1.77907028e+02, 9.99999978e-03, 1.05999994e+00,\n",
       "        1.25000000e+00, 4.99999989e-03],\n",
       "       [2.40436981e+02, 1.78062302e+02, 9.99999978e-03, 1.05999994e+00,\n",
       "        1.25000000e+00, 4.99999989e-03],\n",
       "       [2.45835022e+02, 1.78067108e+02, 9.99999978e-03, 1.05999994e+00,\n",
       "        1.25000000e+00, 4.99999989e-03],\n",
       "       [2.51354691e+02, 1.77917587e+02, 9.99999978e-03, 1.05999994e+00,\n",
       "        1.25000000e+00, 4.99999989e-03],\n",
       "       [2.56986603e+02, 1.77610458e+02, 9.99999978e-03, 1.05999994e+00,\n",
       "        1.25000000e+00, 4.99999989e-03],\n",
       "       [2.62720123e+02, 1.77143158e+02, 9.99999978e-03, 1.05999994e+00,\n",
       "        1.25000000e+00, 4.99999989e-03],\n",
       "       [2.68543304e+02, 1.76513870e+02, 9.99999978e-03, 1.05999994e+00,\n",
       "        1.25000000e+00, 4.99999989e-03],\n",
       "       [2.74442841e+02, 1.75721603e+02, 9.99999978e-03, 1.05999994e+00,\n",
       "        1.25000000e+00, 4.99999989e-03],\n",
       "       [2.80404175e+02, 1.74766190e+02, 9.99999978e-03, 1.05999994e+00,\n",
       "        1.25000000e+00, 4.99999989e-03],\n",
       "       [2.86411407e+02, 1.73648376e+02, 9.99999978e-03, 1.05999994e+00,\n",
       "        1.25000000e+00, 4.99999989e-03],\n",
       "       [2.92447449e+02, 1.72369858e+02, 9.99999978e-03, 1.05999994e+00,\n",
       "        1.25000000e+00, 4.99999989e-03],\n",
       "       [2.98494019e+02, 1.70933258e+02, 9.99999978e-03, 1.05999994e+00,\n",
       "        1.25000000e+00, 4.99999989e-03],\n",
       "       [3.04531799e+02, 1.69342163e+02, 9.99999978e-03, 1.05999994e+00,\n",
       "        1.25000000e+00, 4.99999989e-03],\n",
       "       [3.10540497e+02, 1.67601120e+02, 9.99999978e-03, 1.05999994e+00,\n",
       "        1.25000000e+00, 4.99999989e-03],\n",
       "       [3.16499023e+02, 1.65715622e+02, 9.99999978e-03, 1.05999994e+00,\n",
       "        1.25000000e+00, 4.99999989e-03],\n",
       "       [3.22385620e+02, 1.63692032e+02, 9.99999978e-03, 1.05999994e+00,\n",
       "        1.25000000e+00, 4.99999989e-03],\n",
       "       [3.28178070e+02, 1.61537598e+02, 9.99999978e-03, 1.05999994e+00,\n",
       "        1.25000000e+00, 4.99999989e-03],\n",
       "       [3.33853943e+02, 1.59260376e+02, 9.99999978e-03, 1.05999994e+00,\n",
       "        1.25000000e+00, 4.99999989e-03],\n",
       "       [3.39390686e+02, 1.56869110e+02, 9.99999978e-03, 1.05999994e+00,\n",
       "        1.25000000e+00, 4.99999989e-03],\n",
       "       [3.44765961e+02, 1.54373199e+02, 9.99999978e-03, 1.05999994e+00,\n",
       "        1.25000000e+00, 4.99999989e-03],\n",
       "       [3.49957794e+02, 1.51782593e+02, 9.99999978e-03, 1.05999994e+00,\n",
       "        1.25000000e+00, 4.99999989e-03],\n",
       "       [3.54944855e+02, 1.49107666e+02, 9.99999978e-03, 1.05999994e+00,\n",
       "        1.25000000e+00, 4.99999989e-03],\n",
       "       [3.59706635e+02, 1.46359131e+02, 9.99999978e-03, 1.05999994e+00,\n",
       "        1.25000000e+00, 4.99999989e-03],\n",
       "       [3.64223694e+02, 1.43547958e+02, 9.99999978e-03, 1.05999994e+00,\n",
       "        1.25000000e+00, 4.99999989e-03]])"
      ]
     },
     "execution_count": 85,
     "metadata": {},
     "output_type": "execute_result"
    }
   ],
   "source": [
    "prn_iterative[:50]"
   ]
  },
  {
   "cell_type": "code",
   "execution_count": 86,
   "metadata": {},
   "outputs": [],
   "source": [
    "prn_test = rnn_model.test(prn_valid_X[:iterations_count], prn_model_dir)"
   ]
  },
  {
   "cell_type": "code",
   "execution_count": 87,
   "metadata": {},
   "outputs": [
    {
     "data": {
      "text/plain": [
       "array([[1.50000000e+02, 1.40000000e+02, 1.00000000e-02, 1.06000000e+00,\n",
       "        1.25000000e+00, 5.00000000e-03],\n",
       "       [1.51593750e+02, 1.42187500e+02, 1.00000000e-02, 1.06000000e+00,\n",
       "        1.25000000e+00, 5.00000000e-03],\n",
       "       [1.53308062e+02, 1.44373772e+02, 1.00000000e-02, 1.06000000e+00,\n",
       "        1.25000000e+00, 5.00000000e-03],\n",
       "       [1.55146502e+02, 1.46554987e+02, 1.00000000e-02, 1.06000000e+00,\n",
       "        1.25000000e+00, 5.00000000e-03],\n",
       "       [1.57112741e+02, 1.48727058e+02, 1.00000000e-02, 1.06000000e+00,\n",
       "        1.25000000e+00, 5.00000000e-03],\n",
       "       [1.59210543e+02, 1.50885628e+02, 1.00000000e-02, 1.06000000e+00,\n",
       "        1.25000000e+00, 5.00000000e-03],\n",
       "       [1.61443751e+02, 1.53026069e+02, 1.00000000e-02, 1.06000000e+00,\n",
       "        1.25000000e+00, 5.00000000e-03],\n",
       "       [1.63816271e+02, 1.55143478e+02, 1.00000000e-02, 1.06000000e+00,\n",
       "        1.25000000e+00, 5.00000000e-03],\n",
       "       [1.66332053e+02, 1.57232672e+02, 1.00000000e-02, 1.06000000e+00,\n",
       "        1.25000000e+00, 5.00000000e-03],\n",
       "       [1.68995064e+02, 1.59288193e+02, 1.00000000e-02, 1.06000000e+00,\n",
       "        1.25000000e+00, 5.00000000e-03]])"
      ]
     },
     "execution_count": 87,
     "metadata": {},
     "output_type": "execute_result"
    }
   ],
   "source": [
    "prn_valid_X[:10]"
   ]
  },
  {
   "cell_type": "code",
   "execution_count": 88,
   "metadata": {},
   "outputs": [
    {
     "data": {
      "text/plain": [
       "array([[1.50000000e+02, 1.40000000e+02, 1.00000000e-02, 1.06000000e+00,\n",
       "        1.25000000e+00, 5.00000000e-03],\n",
       "       [1.51584076e+02, 1.42032471e+02, 9.99999978e-03, 1.05999994e+00,\n",
       "        1.25000000e+00, 4.99999989e-03],\n",
       "       [1.53281097e+02, 1.44058533e+02, 9.99999978e-03, 1.05999994e+00,\n",
       "        1.25000000e+00, 4.99999989e-03],\n",
       "       [1.55094116e+02, 1.46074463e+02, 9.99999978e-03, 1.05999994e+00,\n",
       "        1.25000000e+00, 4.99999989e-03],\n",
       "       [1.57026245e+02, 1.48076309e+02, 9.99999978e-03, 1.05999994e+00,\n",
       "        1.25000000e+00, 4.99999989e-03],\n",
       "       [1.59080612e+02, 1.50059860e+02, 9.99999978e-03, 1.05999994e+00,\n",
       "        1.25000000e+00, 4.99999989e-03],\n",
       "       [1.61260422e+02, 1.52020706e+02, 9.99999978e-03, 1.05999994e+00,\n",
       "        1.25000000e+00, 4.99999989e-03],\n",
       "       [1.63568863e+02, 1.53954178e+02, 9.99999978e-03, 1.05999994e+00,\n",
       "        1.25000000e+00, 4.99999989e-03],\n",
       "       [1.66009125e+02, 1.55855392e+02, 9.99999978e-03, 1.05999994e+00,\n",
       "        1.25000000e+00, 4.99999989e-03],\n",
       "       [1.68584381e+02, 1.57719238e+02, 9.99999978e-03, 1.05999994e+00,\n",
       "        1.25000000e+00, 4.99999989e-03]])"
      ]
     },
     "execution_count": 88,
     "metadata": {},
     "output_type": "execute_result"
    }
   ],
   "source": [
    "prn_iterative[:10]"
   ]
  },
  {
   "cell_type": "code",
   "execution_count": 89,
   "metadata": {},
   "outputs": [
    {
     "data": {
      "text/plain": [
       "array([[2.02374603e+02, 4.79726677e+01, 9.99999978e-03, 1.05999994e+00,\n",
       "        1.25000000e+00, 4.99999989e-03],\n",
       "       [1.98695969e+02, 4.82421227e+01, 9.99999978e-03, 1.05999994e+00,\n",
       "        1.25000000e+00, 4.99999989e-03],\n",
       "       [1.95100861e+02, 4.85423508e+01, 9.99999978e-03, 1.05999994e+00,\n",
       "        1.25000000e+00, 4.99999989e-03],\n",
       "       [1.91589035e+02, 4.88732338e+01, 9.99999978e-03, 1.05999994e+00,\n",
       "        1.25000000e+00, 4.99999989e-03],\n",
       "       [1.88160172e+02, 4.92346992e+01, 9.99999978e-03, 1.05999994e+00,\n",
       "        1.25000000e+00, 4.99999989e-03]])"
      ]
     },
     "execution_count": 89,
     "metadata": {},
     "output_type": "execute_result"
    }
   ],
   "source": [
    "prn_iterative[-5:]"
   ]
  },
  {
   "cell_type": "code",
   "execution_count": 90,
   "metadata": {},
   "outputs": [
    {
     "data": {
      "text/plain": [
       "(301, 6)"
      ]
     },
     "execution_count": 90,
     "metadata": {},
     "output_type": "execute_result"
    }
   ],
   "source": [
    "prn_iterative.shape"
   ]
  },
  {
   "cell_type": "code",
   "execution_count": 91,
   "metadata": {},
   "outputs": [
    {
     "data": {
      "text/plain": [
       "array([[1.51593750e+02, 1.42187500e+02, 1.00000000e-02, 1.06000000e+00,\n",
       "        1.25000000e+00, 5.00000000e-03],\n",
       "       [1.53308062e+02, 1.44373772e+02, 1.00000000e-02, 1.06000000e+00,\n",
       "        1.25000000e+00, 5.00000000e-03],\n",
       "       [1.55146502e+02, 1.46554987e+02, 1.00000000e-02, 1.06000000e+00,\n",
       "        1.25000000e+00, 5.00000000e-03],\n",
       "       ...,\n",
       "       [2.03242108e+02, 4.88858290e+01, 1.00000000e-02, 1.06000000e+00,\n",
       "        1.25000000e+00, 5.00000000e-03],\n",
       "       [1.99614606e+02, 4.92429850e+01, 1.00000000e-02, 1.06000000e+00,\n",
       "        1.25000000e+00, 5.00000000e-03],\n",
       "       [1.96074128e+02, 4.96306611e+01, 1.00000000e-02, 1.06000000e+00,\n",
       "        1.25000000e+00, 5.00000000e-03]])"
      ]
     },
     "execution_count": 91,
     "metadata": {},
     "output_type": "execute_result"
    }
   ],
   "source": [
    "prn_valid_y[:iterations_count]"
   ]
  },
  {
   "cell_type": "code",
   "execution_count": null,
   "metadata": {},
   "outputs": [],
   "source": []
  },
  {
   "cell_type": "code",
   "execution_count": 23,
   "metadata": {},
   "outputs": [
    {
     "ename": "NameError",
     "evalue": "name 'train_X' is not defined",
     "output_type": "error",
     "traceback": [
      "\u001b[1;31m---------------------------------------------------------------------------\u001b[0m",
      "\u001b[1;31mNameError\u001b[0m                                 Traceback (most recent call last)",
      "\u001b[1;32m<ipython-input-23-29cf0fdd7648>\u001b[0m in \u001b[0;36m<module>\u001b[1;34m\u001b[0m\n\u001b[0;32m      6\u001b[0m \u001b[0mnn_model_dir\u001b[0m \u001b[1;33m=\u001b[0m \u001b[0mexperiment_settings\u001b[0m\u001b[1;33m[\u001b[0m\u001b[1;34m'nn_model_dir'\u001b[0m\u001b[1;33m]\u001b[0m \u001b[1;33m+\u001b[0m \u001b[1;34m'_lstm_{}seq'\u001b[0m\u001b[1;33m.\u001b[0m\u001b[0mformat\u001b[0m\u001b[1;33m(\u001b[0m\u001b[0msequence_size\u001b[0m\u001b[1;33m)\u001b[0m\u001b[1;33m\u001b[0m\u001b[1;33m\u001b[0m\u001b[0m\n\u001b[0;32m      7\u001b[0m \u001b[1;33m\u001b[0m\u001b[0m\n\u001b[1;32m----> 8\u001b[1;33m \u001b[0mpredictor\u001b[0m \u001b[1;33m=\u001b[0m \u001b[0mLSTMModel\u001b[0m\u001b[1;33m(\u001b[0m\u001b[1;33m(\u001b[0m\u001b[0msequence_size\u001b[0m\u001b[1;33m,\u001b[0m \u001b[0mtrain_X\u001b[0m\u001b[1;33m.\u001b[0m\u001b[0mshape\u001b[0m\u001b[1;33m[\u001b[0m\u001b[1;36m1\u001b[0m\u001b[1;33m]\u001b[0m\u001b[1;33m)\u001b[0m\u001b[1;33m,\u001b[0m \u001b[1;36m32\u001b[0m\u001b[1;33m,\u001b[0m \u001b[0mtrain_X\u001b[0m\u001b[1;33m.\u001b[0m\u001b[0mshape\u001b[0m\u001b[1;33m[\u001b[0m\u001b[1;36m1\u001b[0m\u001b[1;33m]\u001b[0m\u001b[1;33m)\u001b[0m\u001b[1;33m\u001b[0m\u001b[1;33m\u001b[0m\u001b[0m\n\u001b[0m",
      "\u001b[1;31mNameError\u001b[0m: name 'train_X' is not defined"
     ]
    }
   ],
   "source": [
    "from arch.base_nn import BaseNN\n",
    "from arch.base_nn_2layers import BaseNN as BaseNN2Layers\n",
    "from arch.lstm import LSTMModel\n",
    "\n",
    "sequence_size = 5\n",
    "nn_model_dir = experiment_settings['nn_model_dir'] + '_lstm_{}seq'.format(sequence_size)\n",
    "\n",
    "predictor = LSTMModel((sequence_size, train_X.shape[1]), 32, train_X.shape[1])"
   ]
  },
  {
   "cell_type": "code",
   "execution_count": 24,
   "metadata": {},
   "outputs": [],
   "source": [
    "from arch.base_nn import BaseNN\n",
    "\n",
    "predictor = BaseNN(prn_train_X.shape[1], prn_train_X.shape[1])"
   ]
  },
  {
   "cell_type": "code",
   "execution_count": 25,
   "metadata": {},
   "outputs": [
    {
     "name": "stdout",
     "output_type": "stream",
     "text": [
      "Train on 480000 samples, validate on 120000 samples\n",
      "Epoch 1/50\n",
      "480000/480000 [==============================] - 31s 65us/sample - loss: 2018.8246 - mse: 2018.8199 - val_loss: 33.5239 - val_mse: 33.5239\n",
      "Epoch 2/50\n",
      "480000/480000 [==============================] - 31s 64us/sample - loss: 44.5727 - mse: 44.5726 - val_loss: 32.4556 - val_mse: 32.4556\n",
      "Epoch 3/50\n",
      "480000/480000 [==============================] - 32s 66us/sample - loss: 44.4807 - mse: 44.4806 - val_loss: 32.3299 - val_mse: 32.3300\n",
      "Epoch 4/50\n",
      "480000/480000 [==============================] - 33s 68us/sample - loss: 44.4388 - mse: 44.4390 - val_loss: 32.2424 - val_mse: 32.2424\n",
      "Epoch 5/50\n",
      "480000/480000 [==============================] - 31s 64us/sample - loss: 44.4002 - mse: 44.4002 - val_loss: 32.1166 - val_mse: 32.1166\n",
      "Epoch 6/50\n",
      "480000/480000 [==============================] - 29s 61us/sample - loss: 44.3086 - mse: 44.3085 - val_loss: 32.3164 - val_mse: 32.3163\n",
      "Epoch 7/50\n",
      "480000/480000 [==============================] - 29s 61us/sample - loss: 44.1247 - mse: 44.1246 - val_loss: 32.3968 - val_mse: 32.3968\n",
      "Epoch 8/50\n",
      "480000/480000 [==============================] - 33s 69us/sample - loss: 44.1757 - mse: 44.1758 - val_loss: 32.1018 - val_mse: 32.1018\n",
      "Epoch 9/50\n",
      "480000/480000 [==============================] - 34s 71us/sample - loss: 44.0973 - mse: 44.0973 - val_loss: 32.0767 - val_mse: 32.0767\n",
      "Epoch 10/50\n",
      "480000/480000 [==============================] - 29s 61us/sample - loss: 44.0633 - mse: 44.0633 - val_loss: 31.9853 - val_mse: 31.9853\n",
      "Epoch 11/50\n",
      "480000/480000 [==============================] - 31s 65us/sample - loss: 44.0094 - mse: 44.0094 - val_loss: 32.4755 - val_mse: 32.4755\n",
      "Epoch 12/50\n",
      "480000/480000 [==============================] - 31s 65us/sample - loss: 44.0048 - mse: 44.0049 - val_loss: 32.2477 - val_mse: 32.2477\n",
      "Epoch 13/50\n",
      "480000/480000 [==============================] - 31s 64us/sample - loss: 43.8920 - mse: 43.8920 - val_loss: 31.9301 - val_mse: 31.9301\n",
      "Epoch 14/50\n",
      "480000/480000 [==============================] - 31s 64us/sample - loss: 43.9216 - mse: 43.9216 - val_loss: 31.9888 - val_mse: 31.9888\n",
      "Epoch 15/50\n",
      "480000/480000 [==============================] - 31s 64us/sample - loss: 43.9138 - mse: 43.9139 - val_loss: 33.3945 - val_mse: 33.3945\n",
      "Epoch 16/50\n",
      "480000/480000 [==============================] - 31s 64us/sample - loss: 43.8618 - mse: 43.8618 - val_loss: 31.7662 - val_mse: 31.7662\n",
      "Epoch 17/50\n",
      "480000/480000 [==============================] - 31s 65us/sample - loss: 43.7383 - mse: 43.7382 - val_loss: 31.8170 - val_mse: 31.8170\n",
      "Epoch 18/50\n",
      "480000/480000 [==============================] - 32s 66us/sample - loss: 43.8539 - mse: 43.8539 - val_loss: 31.7892 - val_mse: 31.7892\n",
      "Epoch 19/50\n",
      "480000/480000 [==============================] - 31s 65us/sample - loss: 43.7643 - mse: 43.7643 - val_loss: 31.6943 - val_mse: 31.6943\n",
      "Epoch 20/50\n",
      "480000/480000 [==============================] - 31s 65us/sample - loss: 43.7449 - mse: 43.7448 - val_loss: 31.7235 - val_mse: 31.7235\n",
      "Epoch 21/50\n",
      "480000/480000 [==============================] - 31s 65us/sample - loss: 43.6123 - mse: 43.6123 - val_loss: 31.5836 - val_mse: 31.5837\n",
      "Epoch 22/50\n",
      "480000/480000 [==============================] - 31s 65us/sample - loss: 43.6936 - mse: 43.6936 - val_loss: 31.7574 - val_mse: 31.7574\n",
      "Epoch 23/50\n",
      "480000/480000 [==============================] - 31s 65us/sample - loss: 43.6189 - mse: 43.6189 - val_loss: 31.7055 - val_mse: 31.7054\n",
      "Epoch 24/50\n",
      "480000/480000 [==============================] - 31s 65us/sample - loss: 43.6187 - mse: 43.6187 - val_loss: 34.5583 - val_mse: 34.5583\n",
      "Epoch 25/50\n",
      "480000/480000 [==============================] - 31s 65us/sample - loss: 43.6725 - mse: 43.6725 - val_loss: 32.5076 - val_mse: 32.5076\n",
      "Epoch 26/50\n",
      "480000/480000 [==============================] - 31s 65us/sample - loss: 43.6094 - mse: 43.6095 - val_loss: 32.0644 - val_mse: 32.0644\n",
      "Epoch 27/50\n",
      "480000/480000 [==============================] - 32s 66us/sample - loss: 43.5652 - mse: 43.5653 - val_loss: 31.7204 - val_mse: 31.7205\n",
      "Epoch 28/50\n",
      "480000/480000 [==============================] - 33s 68us/sample - loss: 43.5436 - mse: 43.5436 - val_loss: 31.4303 - val_mse: 31.4303\n",
      "Epoch 29/50\n",
      "480000/480000 [==============================] - 29s 60us/sample - loss: 43.5097 - mse: 43.5099 - val_loss: 31.8180 - val_mse: 31.8181\n",
      "Epoch 30/50\n",
      "480000/480000 [==============================] - 29s 61us/sample - loss: 43.5185 - mse: 43.5185 - val_loss: 32.4162 - val_mse: 32.4162\n",
      "Epoch 31/50\n",
      "480000/480000 [==============================] - 32s 66us/sample - loss: 43.5252 - mse: 43.5252 - val_loss: 31.4214 - val_mse: 31.4214\n",
      "Epoch 32/50\n",
      "480000/480000 [==============================] - 30s 64us/sample - loss: 43.4554 - mse: 43.4554 - val_loss: 31.6630 - val_mse: 31.6630\n",
      "Epoch 33/50\n",
      "480000/480000 [==============================] - 31s 65us/sample - loss: 43.4535 - mse: 43.4536 - val_loss: 32.2483 - val_mse: 32.2483\n",
      "Epoch 34/50\n",
      "480000/480000 [==============================] - 30s 62us/sample - loss: 43.4462 - mse: 43.4460 - val_loss: 31.6179 - val_mse: 31.6179\n",
      "Epoch 35/50\n",
      "480000/480000 [==============================] - 32s 67us/sample - loss: 43.4637 - mse: 43.4637 - val_loss: 32.4291 - val_mse: 32.4291\n",
      "Epoch 36/50\n",
      "480000/480000 [==============================] - 29s 61us/sample - loss: 43.4437 - mse: 43.4436 - val_loss: 31.3223 - val_mse: 31.3223\n",
      "Epoch 37/50\n",
      "480000/480000 [==============================] - 29s 59us/sample - loss: 43.4125 - mse: 43.4125 - val_loss: 31.8627 - val_mse: 31.8627\n",
      "Epoch 38/50\n",
      "480000/480000 [==============================] - 28s 59us/sample - loss: 43.3495 - mse: 43.3496 - val_loss: 31.5268 - val_mse: 31.5269\n",
      "Epoch 39/50\n",
      "480000/480000 [==============================] - 29s 61us/sample - loss: 43.3507 - mse: 43.3508 - val_loss: 31.3625 - val_mse: 31.3625\n",
      "Epoch 40/50\n",
      "480000/480000 [==============================] - 29s 60us/sample - loss: 43.3699 - mse: 43.3698 - val_loss: 31.3704 - val_mse: 31.3704\n",
      "Epoch 41/50\n",
      "480000/480000 [==============================] - 29s 60us/sample - loss: 43.3483 - mse: 43.3482 - val_loss: 31.3880 - val_mse: 31.3880\n",
      "Epoch 42/50\n",
      "480000/480000 [==============================] - 31s 64us/sample - loss: 43.3285 - mse: 43.3284 - val_loss: 31.3833 - val_mse: 31.3833\n",
      "Epoch 43/50\n",
      "480000/480000 [==============================] - 29s 60us/sample - loss: 43.3358 - mse: 43.3357 - val_loss: 31.5245 - val_mse: 31.5245\n",
      "Epoch 44/50\n",
      "480000/480000 [==============================] - 32s 66us/sample - loss: 43.3539 - mse: 43.3539 - val_loss: 31.9362 - val_mse: 31.9362\n",
      "Epoch 45/50\n",
      "480000/480000 [==============================] - 29s 61us/sample - loss: 43.3143 - mse: 43.3144 - val_loss: 31.3659 - val_mse: 31.3659\n",
      "Epoch 46/50\n",
      "480000/480000 [==============================] - 30s 62us/sample - loss: 43.2494 - mse: 43.2494 - val_loss: 31.7028 - val_mse: 31.7028\n"
     ]
    }
   ],
   "source": [
    "predictor.train(prn_train_X, prn_train_y, (prn_valid_X, prn_valid_y), train_params, experiment_settings['nn_model_dir'])"
   ]
  },
  {
   "cell_type": "code",
   "execution_count": null,
   "metadata": {},
   "outputs": [],
   "source": [
    "from sklearn.model_selection import train_test_split\n",
    "\n",
    "\n",
    "def window_stack(a, stepsize=1, width=2):\n",
    "    n = a.shape[1]\n",
    "    omg = lambda i: 1+n+i-width\n",
    "    _X = [a[:, i:i+width].astype(np.float16) for i in range(0, n - width)]\n",
    "    _y = [a[:, i].astype(np.float16) for i in range(width, n)]\n",
    "    del a\n",
    "    _X = np.stack(_X, axis=1).astype(np.float16)\n",
    "    _y = np.stack(_y, axis=1).astype(np.float16)\n",
    "\n",
    "    return _X.reshape(-1, _X.shape[2], _X.shape[3]), _y.reshape(-1, _y.shape[2])\n",
    "\n",
    "def get_X_y(data, width=7):\n",
    "    data.fillna(0, inplace=True)\n",
    "    \n",
    "    X = np.array(list(data.groupby('sim_index').apply(pd.DataFrame.as_matrix)))\n",
    "    X, y = window_stack(X, width=width)\n",
    "    X = X[:, :, 1:]\n",
    "    y = y[:, 1:]\n",
    "    \n",
    "    return X, y\n",
    "\n",
    "train_ids, valid_ids = train_test_split(data['sim_index'].unique(), test_size=0.2, random_state=123)\n",
    "rnn_train = data[data['sim_index'].isin(train_ids)]\n",
    "rnn_train_X, rnn_train_y = get_X_y(rnn_train, sequence_size)"
   ]
  },
  {
   "cell_type": "code",
   "execution_count": null,
   "metadata": {},
   "outputs": [],
   "source": [
    "rnn_train_X[0]"
   ]
  },
  {
   "cell_type": "code",
   "execution_count": null,
   "metadata": {},
   "outputs": [],
   "source": [
    "rnn_valid = data[data['sim_index'].isin(valid_ids)]\n",
    "rnn_valid_X, rnn_valid_y = get_X_y(rnn_valid, sequence_size)\n",
    "rnn_valid_X[0]"
   ]
  },
  {
   "cell_type": "code",
   "execution_count": 38,
   "metadata": {},
   "outputs": [],
   "source": [
    "if need_train:\n",
    "    predictor.train(rnn_train_X, rnn_train_y, (rnn_valid_X, rnn_valid_y), train_params, nn_model_dir)"
   ]
  },
  {
   "cell_type": "code",
   "execution_count": 39,
   "metadata": {},
   "outputs": [
    {
     "data": {
      "text/plain": [
       "'C:\\\\Users\\\\HWer\\\\Documents\\\\GitHub\\\\SDtoPRN\\\\experiments\\\\predator_prey_modeling\\\\tf_model\\\\base_nn_model_lstm_5seq'"
      ]
     },
     "execution_count": 39,
     "metadata": {},
     "output_type": "execute_result"
    }
   ],
   "source": [
    "nn_model_dir"
   ]
  },
  {
   "cell_type": "code",
   "execution_count": 43,
   "metadata": {},
   "outputs": [],
   "source": [
    "rnn_initial_value = np.reshape(rnn_valid_X[0], [1, rnn_valid_X.shape[1], rnn_valid_X.shape[2]])\n",
    "nn_iterative = predictor.get_simulation(rnn_initial_value, iterations_count-sequence_size, nn_model_dir)"
   ]
  },
  {
   "cell_type": "code",
   "execution_count": 44,
   "metadata": {},
   "outputs": [
    {
     "data": {
      "text/plain": [
       "array([[1.60000000e+02, 1.30000000e+02, 4.00085449e-02, 1.05957031e+00,\n",
       "        1.25000000e+00, 4.00085449e-02],\n",
       "       [1.84000000e+02, 1.12312500e+02, 4.00085449e-02, 1.05957031e+00,\n",
       "        1.25000000e+00, 4.00085449e-02],\n",
       "       [2.06875000e+02, 9.41250000e+01, 4.00085449e-02, 1.05957031e+00,\n",
       "        1.25000000e+00, 4.00085449e-02],\n",
       "       [2.27500000e+02, 7.65000000e+01, 4.00085449e-02, 1.05957031e+00,\n",
       "        1.25000000e+00, 4.00085449e-02],\n",
       "       [2.44375000e+02, 6.04375000e+01, 4.00085449e-02, 1.05957031e+00,\n",
       "        1.25000000e+00, 4.00085449e-02],\n",
       "       [2.44132645e+02, 5.66390076e+01, 2.88518667e-02, 1.04634547e+00,\n",
       "        1.24797475e+00, 2.88309418e-02],\n",
       "       [2.30731140e+02, 6.33535347e+01, 2.32526511e-02, 1.04587698e+00,\n",
       "        1.24767256e+00, 2.54100002e-02],\n",
       "       [2.18716064e+02, 6.68700256e+01, 2.02383101e-02, 1.04629052e+00,\n",
       "        1.24767435e+00, 2.33081542e-02],\n",
       "       [2.21622757e+02, 5.73811951e+01, 1.66765898e-02, 1.05060029e+00,\n",
       "        1.24791241e+00, 1.72176026e-02],\n",
       "       [2.20246582e+02, 5.36161499e+01, 2.05138028e-02, 1.04930758e+00,\n",
       "        1.24717164e+00, 1.61322467e-02]])"
      ]
     },
     "execution_count": 44,
     "metadata": {},
     "output_type": "execute_result"
    }
   ],
   "source": [
    "nn_iterative[:10]"
   ]
  },
  {
   "cell_type": "code",
   "execution_count": 45,
   "metadata": {},
   "outputs": [
    {
     "data": {
      "text/plain": [
       "(300, 6)"
      ]
     },
     "execution_count": 45,
     "metadata": {},
     "output_type": "execute_result"
    }
   ],
   "source": [
    "nn_iterative.shape"
   ]
  },
  {
   "cell_type": "code",
   "execution_count": 46,
   "metadata": {},
   "outputs": [],
   "source": [
    "nn_test = predictor.test(rnn_valid_X[:iterations_count], nn_model_dir)"
   ]
  },
  {
   "cell_type": "code",
   "execution_count": 47,
   "metadata": {},
   "outputs": [
    {
     "data": {
      "text/plain": [
       "5190"
      ]
     },
     "execution_count": 47,
     "metadata": {},
     "output_type": "execute_result"
    }
   ],
   "source": [
    "predictor.calculate_trainable_parameters()"
   ]
  },
  {
   "cell_type": "code",
   "execution_count": null,
   "metadata": {},
   "outputs": [],
   "source": []
  },
  {
   "cell_type": "markdown",
   "metadata": {},
   "source": [
    "<h3>Train set error</h3>"
   ]
  },
  {
   "cell_type": "code",
   "execution_count": 38,
   "metadata": {},
   "outputs": [],
   "source": [
    "def calculate_error(required_columns_data, output):\n",
    "    output = np.array(output)\n",
    "    error = sum(abs((output-required_columns_data)/required_columns_data))/required_columns_data.shape[0]\n",
    "\n",
    "    return error"
   ]
  },
  {
   "cell_type": "code",
   "execution_count": 42,
   "metadata": {},
   "outputs": [],
   "source": [
    "initial_value = np.reshape(prn_train_X[0], [1, prn_train_X.shape[1]])\n",
    "iterations_count = prn_train_X.shape[0]-1\n",
    "train_prn_output = rnn_model.test(prn_train_X, experiment_settings['prn_model_dir'])"
   ]
  },
  {
   "cell_type": "code",
   "execution_count": 43,
   "metadata": {},
   "outputs": [
    {
     "data": {
      "text/plain": [
       "array([5.55914397e-04, 4.09208858e-02, 1.84654657e-08, 3.41984082e-08,\n",
       "       0.00000000e+00, 1.85033838e-08])"
      ]
     },
     "execution_count": 43,
     "metadata": {},
     "output_type": "execute_result"
    }
   ],
   "source": [
    "train_prn_error = calculate_error(prn_train_y, train_prn_output)\n",
    "train_prn_error"
   ]
  },
  {
   "cell_type": "code",
   "execution_count": 44,
   "metadata": {},
   "outputs": [
    {
     "ename": "NameError",
     "evalue": "name 'predictor' is not defined",
     "output_type": "error",
     "traceback": [
      "\u001b[1;31m---------------------------------------------------------------------------\u001b[0m",
      "\u001b[1;31mNameError\u001b[0m                                 Traceback (most recent call last)",
      "\u001b[1;32m<ipython-input-44-e78b8cc1006f>\u001b[0m in \u001b[0;36m<module>\u001b[1;34m\u001b[0m\n\u001b[1;32m----> 1\u001b[1;33m \u001b[0mtrain_nn_output\u001b[0m \u001b[1;33m=\u001b[0m \u001b[0mpredictor\u001b[0m\u001b[1;33m.\u001b[0m\u001b[0mtest\u001b[0m\u001b[1;33m(\u001b[0m\u001b[0mtrain_X\u001b[0m\u001b[1;33m,\u001b[0m \u001b[0mexperiment_settings\u001b[0m\u001b[1;33m[\u001b[0m\u001b[1;34m'nn_model_dir'\u001b[0m\u001b[1;33m]\u001b[0m\u001b[1;33m)\u001b[0m\u001b[1;33m\u001b[0m\u001b[1;33m\u001b[0m\u001b[0m\n\u001b[0m\u001b[0;32m      2\u001b[0m \u001b[0mtrain_nn_error\u001b[0m \u001b[1;33m=\u001b[0m \u001b[0mcalculate_error\u001b[0m\u001b[1;33m(\u001b[0m\u001b[0mprn_train_y\u001b[0m\u001b[1;33m,\u001b[0m \u001b[0mtrain_nn_output\u001b[0m\u001b[1;33m)\u001b[0m\u001b[1;33m\u001b[0m\u001b[1;33m\u001b[0m\u001b[0m\n\u001b[0;32m      3\u001b[0m \u001b[0mtrain_nn_error\u001b[0m\u001b[1;33m\u001b[0m\u001b[1;33m\u001b[0m\u001b[0m\n",
      "\u001b[1;31mNameError\u001b[0m: name 'predictor' is not defined"
     ]
    }
   ],
   "source": [
    "train_nn_output = predictor.test(train_X, experiment_settings['nn_model_dir'])\n",
    "train_nn_error = calculate_error(prn_train_y, train_nn_output)\n",
    "train_nn_error"
   ]
  },
  {
   "cell_type": "markdown",
   "metadata": {},
   "source": [
    "<h3>Test set error</h3>"
   ]
  },
  {
   "cell_type": "code",
   "execution_count": 41,
   "metadata": {},
   "outputs": [
    {
     "ename": "ValueError",
     "evalue": "operands could not be broadcast together with shapes (240,3) (48,3) ",
     "output_type": "error",
     "traceback": [
      "\u001b[1;31m---------------------------------------------------------------------------\u001b[0m",
      "\u001b[1;31mValueError\u001b[0m                                Traceback (most recent call last)",
      "\u001b[1;32m<ipython-input-41-47eed2a4209e>\u001b[0m in \u001b[0;36m<module>\u001b[1;34m\u001b[0m\n\u001b[1;32m----> 1\u001b[1;33m \u001b[0mprn_error\u001b[0m \u001b[1;33m=\u001b[0m \u001b[0mcalculate_error\u001b[0m\u001b[1;33m(\u001b[0m\u001b[0mvalid_y\u001b[0m\u001b[1;33m,\u001b[0m \u001b[0mprn_output\u001b[0m\u001b[1;33m)\u001b[0m\u001b[1;33m\u001b[0m\u001b[1;33m\u001b[0m\u001b[0m\n\u001b[0m\u001b[0;32m      2\u001b[0m \u001b[0mprn_error\u001b[0m\u001b[1;33m\u001b[0m\u001b[1;33m\u001b[0m\u001b[0m\n",
      "\u001b[1;32m<ipython-input-38-6eebf2a3f31c>\u001b[0m in \u001b[0;36mcalculate_error\u001b[1;34m(required_columns_data, output)\u001b[0m\n\u001b[0;32m      1\u001b[0m \u001b[1;32mdef\u001b[0m \u001b[0mcalculate_error\u001b[0m\u001b[1;33m(\u001b[0m\u001b[0mrequired_columns_data\u001b[0m\u001b[1;33m,\u001b[0m \u001b[0moutput\u001b[0m\u001b[1;33m)\u001b[0m\u001b[1;33m:\u001b[0m\u001b[1;33m\u001b[0m\u001b[1;33m\u001b[0m\u001b[0m\n\u001b[0;32m      2\u001b[0m     \u001b[0moutput\u001b[0m \u001b[1;33m=\u001b[0m \u001b[0mnp\u001b[0m\u001b[1;33m.\u001b[0m\u001b[0marray\u001b[0m\u001b[1;33m(\u001b[0m\u001b[0moutput\u001b[0m\u001b[1;33m)\u001b[0m\u001b[1;33m\u001b[0m\u001b[1;33m\u001b[0m\u001b[0m\n\u001b[1;32m----> 3\u001b[1;33m     \u001b[0merror\u001b[0m \u001b[1;33m=\u001b[0m \u001b[0msum\u001b[0m\u001b[1;33m(\u001b[0m\u001b[0mabs\u001b[0m\u001b[1;33m(\u001b[0m\u001b[1;33m(\u001b[0m\u001b[0moutput\u001b[0m\u001b[1;33m-\u001b[0m\u001b[0mrequired_columns_data\u001b[0m\u001b[1;33m)\u001b[0m\u001b[1;33m/\u001b[0m\u001b[0mrequired_columns_data\u001b[0m\u001b[1;33m)\u001b[0m\u001b[1;33m)\u001b[0m\u001b[1;33m/\u001b[0m\u001b[0mrequired_columns_data\u001b[0m\u001b[1;33m.\u001b[0m\u001b[0mshape\u001b[0m\u001b[1;33m[\u001b[0m\u001b[1;36m0\u001b[0m\u001b[1;33m]\u001b[0m\u001b[1;33m\u001b[0m\u001b[1;33m\u001b[0m\u001b[0m\n\u001b[0m\u001b[0;32m      4\u001b[0m \u001b[1;33m\u001b[0m\u001b[0m\n\u001b[0;32m      5\u001b[0m     \u001b[1;32mreturn\u001b[0m \u001b[0merror\u001b[0m\u001b[1;33m\u001b[0m\u001b[1;33m\u001b[0m\u001b[0m\n",
      "\u001b[1;31mValueError\u001b[0m: operands could not be broadcast together with shapes (240,3) (48,3) "
     ]
    }
   ],
   "source": [
    "prn_error = calculate_error(valid_y, prn_output)\n",
    "prn_error"
   ]
  },
  {
   "cell_type": "code",
   "execution_count": null,
   "metadata": {},
   "outputs": [],
   "source": [
    "nn_error = calculate_error(valid_y, nn_output)\n",
    "nn_error"
   ]
  },
  {
   "cell_type": "code",
   "execution_count": null,
   "metadata": {},
   "outputs": [],
   "source": []
  },
  {
   "cell_type": "code",
   "execution_count": 54,
   "metadata": {},
   "outputs": [
    {
     "name": "stdout",
     "output_type": "stream",
     "text": [
      "No known TensorBoard instances running.\n"
     ]
    }
   ],
   "source": [
    "from tensorboard import notebook\n",
    "notebook.list()"
   ]
  },
  {
   "cell_type": "code",
   "execution_count": 55,
   "metadata": {},
   "outputs": [
    {
     "data": {
      "text/html": [
       "\n",
       "      <iframe id=\"tensorboard-frame-909b32603d88ba33\" width=\"100%\" height=\"1000\" frameborder=\"0\">\n",
       "      </iframe>\n",
       "      <script>\n",
       "        (function() {\n",
       "          const frame = document.getElementById(\"tensorboard-frame-909b32603d88ba33\");\n",
       "          const url = new URL(\"/\", window.location);\n",
       "          url.port = 6006;\n",
       "          frame.src = url;\n",
       "        })();\n",
       "      </script>\n",
       "  "
      ],
      "text/plain": [
       "<IPython.core.display.HTML object>"
      ]
     },
     "metadata": {},
     "output_type": "display_data"
    }
   ],
   "source": [
    "notebook.display(port=6006, height=1000)"
   ]
  },
  {
   "cell_type": "markdown",
   "metadata": {},
   "source": [
    "PRN loss history"
   ]
  },
  {
   "cell_type": "code",
   "execution_count": 56,
   "metadata": {},
   "outputs": [
    {
     "name": "stdout",
     "output_type": "stream",
     "text": [
      "C:\\Users\\HWer\\Documents\\GitHub\\SDtoPRN\\experiments\\predator_prey_modeling_new_prn\\tf_model\\prn_model\\loss_history\n",
      "dict_keys(['loss', 'mse', 'val_loss', 'val_mse'])\n"
     ]
    }
   ],
   "source": [
    "import pickle\n",
    "\n",
    "file_name = path_join(prn_model_dir, 'loss_history')\n",
    "print(file_name)\n",
    "with open(file_name, 'rb') as file:\n",
    "    prn_train_data = pickle.load(file)\n",
    "\n",
    "print(prn_train_data.keys())\n",
    "\n",
    "# file_name = path_join(nn_model_dir, 'loss_history')\n",
    "# print(file_name)\n",
    "# with open(file_name, 'rb') as file:\n",
    "#     nn_train_data = pickle.load(file)\n",
    "\n",
    "# print(nn_train_data.keys())"
   ]
  },
  {
   "cell_type": "code",
   "execution_count": 57,
   "metadata": {},
   "outputs": [],
   "source": [
    "import os"
   ]
  },
  {
   "cell_type": "code",
   "execution_count": 58,
   "metadata": {},
   "outputs": [
    {
     "name": "stdout",
     "output_type": "stream",
     "text": [
      "[1e-10, 1e-09, 1e-08, 1e-07, 1e-06, 1e-05, 0.0001, 0.001, 0.01, 0.1, 1, 10, 100, 1000, 10000]\n"
     ]
    },
    {
     "data": {
      "image/png": "[encoded data removed]",
      "text/plain": [
       "<Figure size 1152x648 with 1 Axes>"
      ]
     },
     "metadata": {
      "needs_background": "light"
     },
     "output_type": "display_data"
    }
   ],
   "source": [
    "import matplotlib.pyplot as plt\n",
    "\n",
    "plt.figure(figsize=(16, 9))\n",
    "plt.plot(prn_train_data['loss'], label='train loss')\n",
    "plt.plot(prn_train_data['val_loss'], label='val loss')\n",
    "plt.ylabel('loss (mse)')\n",
    "plt.xlabel('epochs')\n",
    "# plt.title('PRN and NN train loss')\n",
    "# plt.ylim(0, 0.5)\n",
    "y_ticks = [10 ** i for i in range(-10, 5)]\n",
    "print(y_ticks)\n",
    "# plt.yticks(y_ticks)\n",
    "title = 'train and validation loss'\n",
    "plt.title(title)\n",
    "# plt.yscale('log')\n",
    "plt.legend()\n",
    "plt.grid()\n",
    "plt.savefig(os.path.join(rw_images_dir, title))"
   ]
  },
  {
   "cell_type": "code",
   "execution_count": 30,
   "metadata": {},
   "outputs": [
    {
     "name": "stdout",
     "output_type": "stream",
     "text": [
      "[1e-10, 1e-09, 1e-08, 1e-07, 1e-06, 1e-05, 0.0001, 0.001, 0.01, 0.1, 1, 10, 100, 1000, 10000]\n"
     ]
    },
    {
     "data": {
      "image/png": "[encoded data removed]",
      "text/plain": [
       "<Figure size 1152x648 with 1 Axes>"
      ]
     },
     "metadata": {
      "needs_background": "light"
     },
     "output_type": "display_data"
    }
   ],
   "source": [
    "import matplotlib.pyplot as plt\n",
    "\n",
    "plt.figure(figsize=(16, 9))\n",
    "plt.plot(nn_train_data['loss'], label='train loss')\n",
    "plt.plot(nn_train_data['val_loss'], label='val loss')\n",
    "plt.ylabel('loss (mse)')\n",
    "plt.xlabel('epochs')\n",
    "# plt.title('PRN and NN train loss')\n",
    "# plt.ylim(0, 0.5)\n",
    "y_ticks = [10 ** i for i in range(-10, 5)]\n",
    "print(y_ticks)\n",
    "# plt.yticks(y_ticks)\n",
    "title = 'NN train and validation loss'\n",
    "plt.title(title)\n",
    "plt.yscale('log')\n",
    "plt.legend()\n",
    "plt.grid()\n",
    "plt.savefig(os.path.join(images_dir, title))"
   ]
  },
  {
   "cell_type": "code",
   "execution_count": 43,
   "metadata": {},
   "outputs": [
    {
     "name": "stdout",
     "output_type": "stream",
     "text": [
      "[1e-10, 1e-09, 1e-08, 1e-07, 1e-06, 1e-05, 0.0001, 0.001, 0.01, 0.1, 1, 10, 100, 1000, 10000]\n"
     ]
    }
   ],
   "source": [
    "import matplotlib.pyplot as plt\n",
    "\n",
    "plt.figure(figsize=(16, 9))\n",
    "plt.plot(prn_train_data['loss'], label='PRN')\n",
    "plt.plot(nn_train_data['loss'], label='NN')\n",
    "plt.ylabel('loss (mse)')\n",
    "plt.xlabel('epochs')\n",
    "plt.title('PRN and NN train loss')\n",
    "# plt.ylim(0, 0.5)\n",
    "y_ticks = [10 ** i for i in range(-10, 5)]\n",
    "print(y_ticks)\n",
    "# plt.yticks(y_ticks)\n",
    "title = 'PRN and NN train loss'\n",
    "plt.title(title)\n",
    "plt.yscale('log')\n",
    "plt.legend()\n",
    "plt.grid()\n",
    "plt.savefig(os.path.join(images_dir, title))"
   ]
  },
  {
   "cell_type": "code",
   "execution_count": 44,
   "metadata": {},
   "outputs": [
    {
     "name": "stdout",
     "output_type": "stream",
     "text": [
      "[1e-10, 1e-09, 1e-08, 1e-07, 1e-06, 1e-05, 0.0001, 0.001, 0.01, 0.1, 1, 10, 100, 1000, 10000]\n"
     ]
    },
    {
     "data": {
      "image/png": "[encoded data removed]",
      "text/plain": [
       "<Figure size 1152x648 with 1 Axes>"
      ]
     },
     "metadata": {
      "needs_background": "light"
     },
     "output_type": "display_data"
    }
   ],
   "source": [
    "plt.figure(figsize=(16, 9))\n",
    "\n",
    "plt.plot(prn_train_data['val_loss'], label='PRN')\n",
    "plt.plot(nn_train_data['val_loss'], label='NN')\n",
    "plt.ylabel('loss (mse)')\n",
    "plt.xlabel('epochs')\n",
    "plt.title('PRN and NN val loss')\n",
    "# plt.ylim(0, 0.5)\n",
    "y_ticks = [10 ** i for i in range(-10, 5)]\n",
    "print(y_ticks)\n",
    "# plt.yticks(y_ticks)\n",
    "title = 'PRN and NN val loss'\n",
    "plt.title(title)\n",
    "plt.yscale('log')\n",
    "plt.legend()\n",
    "plt.grid()\n",
    "plt.savefig(os.path.join(images_dir, title))"
   ]
  },
  {
   "cell_type": "code",
   "execution_count": 55,
   "metadata": {},
   "outputs": [],
   "source": [
    "def biplot(x, y, title, model_name, images_dir):\n",
    "    plt.figure(figsize=(8, 8))\n",
    "    plt.scatter(x, y)\n",
    "    plt.grid()\n",
    "\n",
    "#     min_ylim = min(min(x), min(y))\n",
    "#     max_ylim = max(max(x), max(y))\n",
    "\n",
    "#     plt.ylim(min_ylim, max_ylim)\n",
    "\n",
    "    plt.xlabel('y')\n",
    "    plt.ylabel('predicted')\n",
    "    plt.title(title)\n",
    "\n",
    "    # plt.show()\n",
    "    image_path = path_join(images_dir, title + '.png')\n",
    "    plt.savefig(image_path)\n",
    "#     plt.gcf().clear()"
   ]
  },
  {
   "cell_type": "code",
   "execution_count": 56,
   "metadata": {},
   "outputs": [],
   "source": [
    "def plot_graphs(graphs, labels, field_name, model_name, images_dir):\n",
    "    for graph, label in zip(graphs, labels):\n",
    "        line_style = '-'\n",
    "        if label != 'true_y':\n",
    "            line_style = '--'\n",
    "        plt.plot(graph, linestyle=line_style, label=label)\n",
    "\n",
    "    # min_ylim = min(y2) # for big values bug\n",
    "    # max_ylim = max(y2)\n",
    "    # plt.ylim(min_ylim, max_ylim)\n",
    "    plt.xlabel('Time')\n",
    "    plt.ylabel('{} value'.format(field_name))\n",
    "    plt.grid()\n",
    "    plt.legend()\n",
    "    title = '{} modeling with {}'.format(field_name, model_name)\n",
    "    plt.title(title)\n",
    "\n",
    "    image_path = path_join(images_dir, title + '.png')\n",
    "    plt.savefig(image_path)\n",
    "    plt.gcf().clear()\n"
   ]
  },
  {
   "cell_type": "code",
   "execution_count": 58,
   "metadata": {},
   "outputs": [
    {
     "ename": "NameError",
     "evalue": "name 'nn_output' is not defined",
     "output_type": "error",
     "traceback": [
      "\u001b[1;31m---------------------------------------------------------------------------\u001b[0m",
      "\u001b[1;31mNameError\u001b[0m                                 Traceback (most recent call last)",
      "\u001b[1;32m<ipython-input-58-6acbf0c8c522>\u001b[0m in \u001b[0;36m<module>\u001b[1;34m\u001b[0m\n\u001b[0;32m      2\u001b[0m     \u001b[0mi\u001b[0m \u001b[1;33m=\u001b[0m \u001b[0mfields\u001b[0m\u001b[1;33m.\u001b[0m\u001b[0mindex\u001b[0m\u001b[1;33m(\u001b[0m\u001b[0mlevel\u001b[0m\u001b[1;33m)\u001b[0m\u001b[1;33m\u001b[0m\u001b[1;33m\u001b[0m\u001b[0m\n\u001b[0;32m      3\u001b[0m     \u001b[0mlevel_output\u001b[0m \u001b[1;33m=\u001b[0m \u001b[0mprn_iterative\u001b[0m\u001b[1;33m[\u001b[0m\u001b[1;33m:\u001b[0m\u001b[1;33m,\u001b[0m \u001b[0mi\u001b[0m\u001b[1;33m]\u001b[0m\u001b[1;33m\u001b[0m\u001b[1;33m\u001b[0m\u001b[0m\n\u001b[1;32m----> 4\u001b[1;33m     \u001b[0mlevel_nn_output\u001b[0m \u001b[1;33m=\u001b[0m \u001b[0mnn_output\u001b[0m\u001b[1;33m[\u001b[0m\u001b[1;33m:\u001b[0m\u001b[1;33m,\u001b[0m \u001b[0mi\u001b[0m\u001b[1;33m]\u001b[0m\u001b[1;33m\u001b[0m\u001b[1;33m\u001b[0m\u001b[0m\n\u001b[0m\u001b[0;32m      5\u001b[0m     \u001b[0mlevel_y\u001b[0m \u001b[1;33m=\u001b[0m \u001b[0msimulation_data\u001b[0m\u001b[1;33m[\u001b[0m\u001b[1;33m:\u001b[0m\u001b[1;33m,\u001b[0m \u001b[0mi\u001b[0m\u001b[1;33m]\u001b[0m\u001b[1;33m\u001b[0m\u001b[1;33m\u001b[0m\u001b[0m\n\u001b[0;32m      6\u001b[0m \u001b[1;33m\u001b[0m\u001b[0m\n",
      "\u001b[1;31mNameError\u001b[0m: name 'nn_output' is not defined"
     ]
    }
   ],
   "source": [
    "for level in fields:\n",
    "    i = fields.index(level)\n",
    "    level_output = prn_iterative[1:iterations_count, i]\n",
    "#     level_nn_output = nn_output[:, i]\n",
    "    level_y = simulation_data[:iterations_count, i]\n",
    "\n",
    "    graphs = (level_output, level_nn_output, level_y)\n",
    "    labels = ('PRN_y', 'NN_y', 'true_y')\n",
    "\n",
    "#     biplot_name1 = 'biplot {} NN and SD simulation'.format(level)\n",
    "#     biplot(level_nn_output, level_y, biplot_name1, 'NN', images_dir)\n",
    "    \n",
    "#     biplot_name2 = 'biplot {} PRN and SD simulation'.format(level)\n",
    "#     biplot(level_output, level_y, biplot_name2, 'PRN', images_dir)\n",
    "#     graph_name = 'graph {} SD and PRN graphs'.format(level)\n",
    "    biplot_name2 = 'biplot {}'.format(level)\n",
    "    biplot(level_output, level_y, biplot_name2, 'PRN', rw_images_dir)\n",
    "\n",
    "    \n",
    "\n",
    "#     plot_graphs(graphs, labels, '{} ({})'.format(model_name, level), images_dir)"
   ]
  },
  {
   "cell_type": "code",
   "execution_count": 52,
   "metadata": {},
   "outputs": [
    {
     "data": {
      "text/plain": [
       "<Figure size 432x288 with 0 Axes>"
      ]
     },
     "metadata": {},
     "output_type": "display_data"
    }
   ],
   "source": [
    "for level in fields:\n",
    "    i = fields.index(level)\n",
    "    level_output = prn_output[:, i]\n",
    "    level_nn_output = nn_output[:, i]\n",
    "    level_y = simulation_data[:, i]\n",
    "\n",
    "    graphs = (level_output, level_y)\n",
    "    labels = ('PRN_y', 'true_y')\n",
    "#     graphs = (level_output, level_nn_output, level_y)\n",
    "#     labels = ('PRN_y', 'NN_y', 'true_y')\n",
    "#     biplot_name1 = 'biplot {} NN and SD simulation'.format(level)\n",
    "#     biplot(level_nn_output, level_y, biplot_name1, 'NN', images_dir)\n",
    "    \n",
    "#     biplot_name2 = 'biplot {} PRN and SD simulation'.format(level)\n",
    "#     biplot(level_output, level_y, biplot_name2, 'PRN', images_dir)\n",
    "#     graph_name = 'graph {} SD and PRN graphs'.format(level)\n",
    "\n",
    "    \n",
    "\n",
    "    plot_graphs(graphs, labels, level, 'PRN', images_dir)"
   ]
  },
  {
   "cell_type": "code",
   "execution_count": null,
   "metadata": {},
   "outputs": [],
   "source": []
  }
 ],
 "metadata": {
  "kernelspec": {
   "display_name": "Python 3",
   "language": "python",
   "name": "python3"
  },
  "language_info": {
   "codemirror_mode": {
    "name": "ipython",
    "version": 3
   },
   "file_extension": ".py",
   "mimetype": "text/x-python",
   "name": "python",
   "nbconvert_exporter": "python",
   "pygments_lexer": "ipython3",
   "version": "3.6.7"
  }
 },
 "nbformat": 4,
 "nbformat_minor": 2
}
